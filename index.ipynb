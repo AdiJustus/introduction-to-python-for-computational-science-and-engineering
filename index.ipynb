{
 "cells": [
  {
   "cell_type": "markdown",
   "metadata": {},
   "source": [
    "# Python for Computational Science and Engineering\n",
    "\n",
    "The content of [this book](https://github.com/fangohr/introduction-to-python-for-computational-science-and-engineering/blob/binder/Readme.md) is distributed into chapters, using one Jupyter Notebook for each chapter.\n",
    "\n",
    "\n",
    "- [01 Introduction](01-introduction.ipynb)\n",
    "- [02 A powerful calculator](02-powerful-calculator.ipynb)\n",
    "- [03 Data types and data structures ](03-data-types-structures.ipynb)\n",
    "- [04 Introspection ](04-introspection.ipynb)\n",
    "- [05 Input and output ](05-input-output.ipynb)\n",
    "- [06 Control flow ](06-control-flow.ipynb)\n",
    "- [07 Functions and modules ](07-functions-modules.ipynb)\n",
    "- [08 Functional tools ](08-functional-tools.ipynb)\n",
    "- [09 Common tasks ](09-common-tasks.ipynb)\n",
    "- [10 From Matlab to Python ](10-matlab-to-python.ipynb)\n",
    "- [11 Python shells, GUIs and editors](11-python-shells.ipynb)\n",
    "- [12 Symbolic calculation](12-symbolic-computation.ipynb)\n",
    "- [13 Numerical computation ](13-numeric-computation.ipynb)\n",
    "- [14 Numerical python (numpy): arrays](14-numpy.ipynb)\n",
    "- [15 Visualising data ](15-visualising-data.ipynb)\n",
    "- [16 Numerical methods using Python (scipy)](16-scipy.ipynb)\n",
    "- [17 Where to go from here?](17-next-steps.ipynb)\n",
    "\n",
    "You can also directly navigate the files in [this directory](.), and open those with the `ipynb` file extension.\n",
    "\n",
    "For feedback, corrections, please refer to the [home page](https://github.com/fangohr/introduction-to-python-for-computational-science-and-engineering/blob/binder/Readme.md) of the book.\n",
    "\n",
    "Enjoy!"
   ]
  },
  {
   "cell_type": "code",
   "execution_count": null,
   "metadata": {},
   "outputs": [],
   "source": []
  }
 ],
 "metadata": {
  "anaconda-cloud": {},
  "kernelspec": {
   "display_name": "Python 3",
   "language": "python",
   "name": "python3"
  },
  "language_info": {
   "codemirror_mode": {
    "name": "ipython",
    "version": 3
   },
   "file_extension": ".py",
   "mimetype": "text/x-python",
   "name": "python",
   "nbconvert_exporter": "python",
   "pygments_lexer": "ipython3",
   "version": "3.7.0"
  }
 },
 "nbformat": 4,
 "nbformat_minor": 2
}
