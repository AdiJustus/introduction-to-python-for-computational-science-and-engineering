{
 "cells": [
  {
   "cell_type": "markdown",
   "metadata": {},
   "source": [
    "# Pandas - Data Science with Python"
   ]
  },
  {
   "cell_type": "markdown",
   "metadata": {},
   "source": [
    "Numpy and numpy arrays are our tool of choice for numeric data that resembles vectors, matrices (and higher dimensional tensors).\n",
    "\n",
    "Where data is gathered from experiments, and in particular where we want to extract meaning from the combination of different data sources, and where data is often incomplete, the pandas library offers a number of useful tools (and has become a standard tool for data scientists).\n",
    "\n",
    "In this section, we introduce the basics of Pandas.\n",
    "\n",
    "In particular, we introduce the two key data types in Pandas: the ``Series`` and the ``DataFrame`` objects."
   ]
  },
  {
   "cell_type": "markdown",
   "metadata": {},
   "source": [
    "By convention, the `pandas` library is imported under the name `pd` (the same way that `numpy` is imported under the name `np`:"
   ]
  },
  {
   "cell_type": "code",
   "execution_count": 1,
   "metadata": {
    "collapsed": true
   },
   "outputs": [],
   "source": [
    "import pandas as pd"
   ]
  },
  {
   "cell_type": "markdown",
   "metadata": {},
   "source": [
    "## Motivational example (Series)\n"
   ]
  },
  {
   "cell_type": "markdown",
   "metadata": {},
   "source": [
    "Imagine we are working on software for a greengrocer or supermarket, and need to track the number of apples (10), oranges(3) and bananas (22) that are available in the supermarket. \n",
    "\n",
    "We could use a python list (or a numpy array) to track these numbers:"
   ]
  },
  {
   "cell_type": "code",
   "execution_count": 2,
   "metadata": {
    "collapsed": true
   },
   "outputs": [],
   "source": [
    "stock = [10, 3, 22]"
   ]
  },
  {
   "cell_type": "markdown",
   "metadata": {},
   "source": [
    "However, we would need to remember separately that the entries are in the order of apples, oranges, and bananas. This could be achieved through a second list: "
   ]
  },
  {
   "cell_type": "code",
   "execution_count": 3,
   "metadata": {
    "collapsed": true
   },
   "outputs": [],
   "source": [
    "stocklabels = ['apple', 'orange', 'banana']"
   ]
  },
  {
   "cell_type": "code",
   "execution_count": 4,
   "metadata": {},
   "outputs": [
    {
     "name": "stdout",
     "output_type": "stream",
     "text": [
      "apple      :   10\n",
      "orange     :    3\n",
      "banana     :   22\n"
     ]
    }
   ],
   "source": [
    "assert len(stocklabels) == len(stock)  # check labels and \n",
    "                                       # stock are consistent\n",
    "for label, count in zip(stocklabels, stock):\n",
    "    print(f'{label:10s} : {count:4d}')"
   ]
  },
  {
   "cell_type": "markdown",
   "metadata": {},
   "source": [
    "The above 2-list solution is a little awkward in two ways: firstly, we have use two lists to describe one set of data (and thus need to be carefuly to update them simulatenously, for example), and secondly, the access to the data given a label is inconvenient: We need to find the index of the label with one list, then use this as the index to the other list, for example"
   ]
  },
  {
   "cell_type": "code",
   "execution_count": 5,
   "metadata": {},
   "outputs": [
    {
     "name": "stdout",
     "output_type": "stream",
     "text": [
      "There are 22 bananas [index=2].\n"
     ]
    }
   ],
   "source": [
    "index = stocklabels.index('banana')\n",
    "bananas = stock[index]\n",
    "print(f\"There are {bananas} bananas [index={index}].\")"
   ]
  },
  {
   "cell_type": "markdown",
   "metadata": {},
   "source": [
    "We have come across similar examples in the section on dictionaries, and indeed a dictionary is a more convenient solution:"
   ]
  },
  {
   "cell_type": "code",
   "execution_count": 6,
   "metadata": {
    "collapsed": true
   },
   "outputs": [],
   "source": [
    "stock_dic = {'apple': 10, \n",
    "             'orange': 3,\n",
    "             'banana': 22}"
   ]
  },
  {
   "cell_type": "markdown",
   "metadata": {},
   "source": [
    "In a way, the keys of the dictionary contain the stock labels and the values contain the actual values:"
   ]
  },
  {
   "cell_type": "code",
   "execution_count": 7,
   "metadata": {},
   "outputs": [
    {
     "data": {
      "text/plain": [
       "dict_keys(['apple', 'orange', 'banana'])"
      ]
     },
     "execution_count": 7,
     "metadata": {},
     "output_type": "execute_result"
    }
   ],
   "source": [
    "stock_dic.keys()"
   ]
  },
  {
   "cell_type": "code",
   "execution_count": 8,
   "metadata": {},
   "outputs": [
    {
     "data": {
      "text/plain": [
       "dict_values([10, 3, 22])"
      ]
     },
     "execution_count": 8,
     "metadata": {},
     "output_type": "execute_result"
    }
   ],
   "source": [
    "stock_dic.values()"
   ]
  },
  {
   "cell_type": "markdown",
   "metadata": {},
   "source": [
    "To retrieve (or change) the value for `apple`, we use `apple` as the key and retrieve the value through the dictionary's indexing notation:"
   ]
  },
  {
   "cell_type": "code",
   "execution_count": 9,
   "metadata": {},
   "outputs": [
    {
     "data": {
      "text/plain": [
       "10"
      ]
     },
     "execution_count": 9,
     "metadata": {},
     "output_type": "execute_result"
    }
   ],
   "source": [
    "stock_dic['apple']"
   ]
  },
  {
   "cell_type": "markdown",
   "metadata": {},
   "source": [
    "And we can summarise the stock as follows:"
   ]
  },
  {
   "cell_type": "code",
   "execution_count": 10,
   "metadata": {},
   "outputs": [
    {
     "name": "stdout",
     "output_type": "stream",
     "text": [
      "apple      :   10\n",
      "orange     :    3\n",
      "banana     :   22\n"
     ]
    }
   ],
   "source": [
    "for label in stock_dic:\n",
    "    print(f'{label:10s} : {stock_dic[label]:4d}')"
   ]
  },
  {
   "cell_type": "markdown",
   "metadata": {},
   "source": [
    "This is a vast improvement over the 2-lists solution: (i) we only maintain one structure, which contains a value for every key - so we don't need to check that the lists have the same length. (ii) we can access individual elements through the label (using it as a key for the dictionary). "
   ]
  },
  {
   "cell_type": "markdown",
   "metadata": {},
   "source": [
    "The Pandas Series object address the requriments above. It is similar to a dictionary, but with improvements for the given problem:\n",
    "\n",
    "* the order of the items is maintained\n",
    "* the values have to have the same type (higher execution performance)\n",
    "* a (large) number of convenience functionality, for example to deal with missing data, time series, sorting, plotting, and more "
   ]
  },
  {
   "cell_type": "markdown",
   "metadata": {},
   "source": [
    "## Pandas `Series`"
   ]
  },
  {
   "cell_type": "markdown",
   "metadata": {},
   "source": [
    "### Stock example - `Series`"
   ]
  },
  {
   "cell_type": "markdown",
   "metadata": {},
   "source": [
    "We can create a `Series` object - for example - from a dictionary:"
   ]
  },
  {
   "cell_type": "code",
   "execution_count": 11,
   "metadata": {
    "collapsed": true
   },
   "outputs": [],
   "source": [
    "stock = pd.Series({'apple': 10, \n",
    "                   'orange': 3,\n",
    "                   'banana': 22})"
   ]
  },
  {
   "cell_type": "markdown",
   "metadata": {},
   "source": [
    "The default presentation shows the entries one per row, with the label on the left, and the value on the right. "
   ]
  },
  {
   "cell_type": "code",
   "execution_count": 12,
   "metadata": {},
   "outputs": [
    {
     "data": {
      "text/plain": [
       "pandas.core.series.Series"
      ]
     },
     "execution_count": 12,
     "metadata": {},
     "output_type": "execute_result"
    }
   ],
   "source": [
    "type(stock)"
   ]
  },
  {
   "cell_type": "code",
   "execution_count": 13,
   "metadata": {},
   "outputs": [
    {
     "data": {
      "text/plain": [
       "apple     10\n",
       "orange     3\n",
       "banana    22\n",
       "dtype: int64"
      ]
     },
     "execution_count": 13,
     "metadata": {},
     "output_type": "execute_result"
    }
   ],
   "source": [
    "stock"
   ]
  },
  {
   "cell_type": "markdown",
   "metadata": {},
   "source": [
    "The items on the left are referred to as the `index` of the Series, and are available as the `index` attribute of the `series` object:"
   ]
  },
  {
   "cell_type": "code",
   "execution_count": 14,
   "metadata": {},
   "outputs": [
    {
     "data": {
      "text/plain": [
       "Index(['apple', 'orange', 'banana'], dtype='object')"
      ]
     },
     "execution_count": 14,
     "metadata": {},
     "output_type": "execute_result"
    }
   ],
   "source": [
    "stock.index"
   ]
  },
  {
   "cell_type": "code",
   "execution_count": 15,
   "metadata": {},
   "outputs": [
    {
     "data": {
      "text/plain": [
       "pandas.core.indexes.base.Index"
      ]
     },
     "execution_count": 15,
     "metadata": {},
     "output_type": "execute_result"
    }
   ],
   "source": [
    "type(stock.index)"
   ]
  },
  {
   "cell_type": "markdown",
   "metadata": {},
   "source": [
    "We can also access the list of values for each item, using the `values` attribute:"
   ]
  },
  {
   "cell_type": "code",
   "execution_count": 16,
   "metadata": {},
   "outputs": [
    {
     "data": {
      "text/plain": [
       "array([10,  3, 22])"
      ]
     },
     "execution_count": 16,
     "metadata": {},
     "output_type": "execute_result"
    }
   ],
   "source": [
    "stock.values"
   ]
  },
  {
   "cell_type": "markdown",
   "metadata": {},
   "source": [
    "Regarding data access, the `Series` object behaves like a dictionary:"
   ]
  },
  {
   "cell_type": "code",
   "execution_count": 17,
   "metadata": {},
   "outputs": [
    {
     "data": {
      "text/plain": [
       "10"
      ]
     },
     "execution_count": 17,
     "metadata": {},
     "output_type": "execute_result"
    }
   ],
   "source": [
    "stock['apple']"
   ]
  },
  {
   "cell_type": "code",
   "execution_count": 18,
   "metadata": {
    "collapsed": true
   },
   "outputs": [],
   "source": [
    "stock['potato'] = 101    # adding more values\n",
    "stock['cucumber'] = 1\n"
   ]
  },
  {
   "cell_type": "code",
   "execution_count": 19,
   "metadata": {},
   "outputs": [
    {
     "name": "stdout",
     "output_type": "stream",
     "text": [
      "apple        10\n",
      "orange        3\n",
      "banana       22\n",
      "potato      101\n",
      "cucumber      1\n",
      "dtype: int64\n"
     ]
    }
   ],
   "source": [
    "print(stock)"
   ]
  },
  {
   "cell_type": "code",
   "execution_count": 20,
   "metadata": {},
   "outputs": [
    {
     "data": {
      "text/plain": [
       "apple        10\n",
       "orange        3\n",
       "banana       22\n",
       "potato      101\n",
       "cucumber      1\n",
       "dtype: int64"
      ]
     },
     "execution_count": 20,
     "metadata": {},
     "output_type": "execute_result"
    }
   ],
   "source": [
    "stock"
   ]
  },
  {
   "cell_type": "markdown",
   "metadata": {},
   "source": [
    "We can plot the data as a bar chart:"
   ]
  },
  {
   "cell_type": "code",
   "execution_count": 21,
   "metadata": {},
   "outputs": [
    {
     "data": {
      "text/plain": [
       "<matplotlib.axes._subplots.AxesSubplot at 0x117643400>"
      ]
     },
     "execution_count": 21,
     "metadata": {},
     "output_type": "execute_result"
    },
    {
     "data": {
      "image/png": "[encoded data removed]",
      "text/plain": [
       "<Figure size 432x288 with 1 Axes>"
      ]
     },
     "metadata": {},
     "output_type": "display_data"
    }
   ],
   "source": [
    "%matplotlib inline\n",
    "stock.plot(kind='bar')"
   ]
  },
  {
   "cell_type": "markdown",
   "metadata": {},
   "source": [
    "We can sort the data according to the values in the Series (and then plot to visualise):"
   ]
  },
  {
   "cell_type": "code",
   "execution_count": 22,
   "metadata": {},
   "outputs": [
    {
     "data": {
      "text/plain": [
       "<matplotlib.axes._subplots.AxesSubplot at 0x1196e3be0>"
      ]
     },
     "execution_count": 22,
     "metadata": {},
     "output_type": "execute_result"
    },
    {
     "data": {
      "image/png": "[encoded data removed]",
      "text/plain": [
       "<Figure size 432x288 with 1 Axes>"
      ]
     },
     "metadata": {},
     "output_type": "display_data"
    }
   ],
   "source": [
    "stock.sort_values().plot(kind='bar')"
   ]
  },
  {
   "cell_type": "markdown",
   "metadata": {},
   "source": [
    "Or sort the index to get alphabetical order of our fruit and vegetables:"
   ]
  },
  {
   "cell_type": "code",
   "execution_count": 23,
   "metadata": {},
   "outputs": [
    {
     "data": {
      "text/plain": [
       "<matplotlib.axes._subplots.AxesSubplot at 0x1197e8d30>"
      ]
     },
     "execution_count": 23,
     "metadata": {},
     "output_type": "execute_result"
    },
    {
     "data": {
      "image/png": "[encoded data removed]",
      "text/plain": [
       "<Figure size 432x288 with 1 Axes>"
      ]
     },
     "metadata": {},
     "output_type": "display_data"
    }
   ],
   "source": [
    "stock.sort_index().plot(kind='bar')"
   ]
  },
  {
   "cell_type": "markdown",
   "metadata": {},
   "source": [
    "The `Series` object has a number of numerical methods available, including `mean` and `sum`:"
   ]
  },
  {
   "cell_type": "code",
   "execution_count": 24,
   "metadata": {},
   "outputs": [
    {
     "data": {
      "text/plain": [
       "137"
      ]
     },
     "execution_count": 24,
     "metadata": {},
     "output_type": "execute_result"
    }
   ],
   "source": [
    "stock.sum()"
   ]
  },
  {
   "cell_type": "code",
   "execution_count": 25,
   "metadata": {},
   "outputs": [
    {
     "data": {
      "text/plain": [
       "27.4"
      ]
     },
     "execution_count": 25,
     "metadata": {},
     "output_type": "execute_result"
    }
   ],
   "source": [
    "stock.mean()"
   ]
  },
  {
   "cell_type": "markdown",
   "metadata": {},
   "source": [
    "It also behaves like a sequence in that the `len` function returns the number of data points in the Series object:"
   ]
  },
  {
   "cell_type": "code",
   "execution_count": 26,
   "metadata": {},
   "outputs": [
    {
     "data": {
      "text/plain": [
       "5"
      ]
     },
     "execution_count": 26,
     "metadata": {},
     "output_type": "execute_result"
    }
   ],
   "source": [
    "len(stock)"
   ]
  },
  {
   "cell_type": "markdown",
   "metadata": {},
   "source": [
    "### memory usage"
   ]
  },
  {
   "cell_type": "markdown",
   "metadata": {},
   "source": [
    "For larger data sets, it might be important to know how many bytes storing the Series costs. The bytes required to store the actual series data are available as"
   ]
  },
  {
   "cell_type": "code",
   "execution_count": 27,
   "metadata": {},
   "outputs": [
    {
     "data": {
      "text/plain": [
       "40"
      ]
     },
     "execution_count": 27,
     "metadata": {},
     "output_type": "execute_result"
    }
   ],
   "source": [
    "stock.nbytes"
   ]
  },
  {
   "cell_type": "markdown",
   "metadata": {},
   "source": [
    "or from the underlying numpy array directly:"
   ]
  },
  {
   "cell_type": "code",
   "execution_count": 28,
   "metadata": {},
   "outputs": [
    {
     "data": {
      "text/plain": [
       "40"
      ]
     },
     "execution_count": 28,
     "metadata": {},
     "output_type": "execute_result"
    }
   ],
   "source": [
    "stock.values.nbytes"
   ]
  },
  {
   "cell_type": "markdown",
   "metadata": {},
   "source": [
    "It is 40 bytes, because we have 5 elements stored as int64 (each needing 8 bytes):"
   ]
  },
  {
   "cell_type": "code",
   "execution_count": 29,
   "metadata": {},
   "outputs": [
    {
     "data": {
      "text/plain": [
       "dtype('int64')"
      ]
     },
     "execution_count": 29,
     "metadata": {},
     "output_type": "execute_result"
    }
   ],
   "source": [
    "stock.dtype"
   ]
  },
  {
   "cell_type": "markdown",
   "metadata": {},
   "source": [
    "The Series object needs additional memory. This can be queried using:"
   ]
  },
  {
   "cell_type": "code",
   "execution_count": 30,
   "metadata": {},
   "outputs": [
    {
     "data": {
      "text/plain": [
       "240"
      ]
     },
     "execution_count": 30,
     "metadata": {},
     "output_type": "execute_result"
    }
   ],
   "source": [
    "stock.memory_usage()"
   ]
  },
  {
   "cell_type": "markdown",
   "metadata": {},
   "source": [
    "### Statistics"
   ]
  },
  {
   "cell_type": "markdown",
   "metadata": {},
   "source": [
    "A number of statistical descriptors of the data in the `stock` Series object is available using `describe()`:"
   ]
  },
  {
   "cell_type": "code",
   "execution_count": 31,
   "metadata": {},
   "outputs": [
    {
     "data": {
      "text/plain": [
       "count      5.000000\n",
       "mean      27.400000\n",
       "std       41.955929\n",
       "min        1.000000\n",
       "25%        3.000000\n",
       "50%       10.000000\n",
       "75%       22.000000\n",
       "max      101.000000\n",
       "dtype: float64"
      ]
     },
     "execution_count": 31,
     "metadata": {},
     "output_type": "execute_result"
    }
   ],
   "source": [
    "stock.describe()"
   ]
  },
  {
   "cell_type": "markdown",
   "metadata": {},
   "source": [
    "As usual, the documentation strings provide documentation (`help(stock.describe)`), and the pandas home page (`https://pandas.pydata.org`) provides links to the Pandas documentation."
   ]
  },
  {
   "cell_type": "markdown",
   "metadata": {},
   "source": [
    "\n",
    "## Create Series from list\n",
    "\n",
    "In the example above, we showed how to create a Series from a dictionary where the keys of the dictionary entries served as the index for the Series object. \n",
    "\n",
    "We can also create a Series from a list, an provide an additional index:"
   ]
  },
  {
   "cell_type": "code",
   "execution_count": 32,
   "metadata": {
    "collapsed": true
   },
   "outputs": [],
   "source": [
    "stock = pd.Series([10, 3, 22], index=['apple', 'orange', 'banana'])"
   ]
  },
  {
   "cell_type": "code",
   "execution_count": 33,
   "metadata": {},
   "outputs": [
    {
     "data": {
      "text/plain": [
       "apple     10\n",
       "orange     3\n",
       "banana    22\n",
       "dtype: int64"
      ]
     },
     "execution_count": 33,
     "metadata": {},
     "output_type": "execute_result"
    }
   ],
   "source": [
    "stock"
   ]
  },
  {
   "cell_type": "markdown",
   "metadata": {},
   "source": [
    "If we omit the `index` argument, the Series will assume an integer index:"
   ]
  },
  {
   "cell_type": "code",
   "execution_count": 34,
   "metadata": {
    "collapsed": true
   },
   "outputs": [],
   "source": [
    "stock = pd.Series([10, 3, 22])"
   ]
  },
  {
   "cell_type": "code",
   "execution_count": 35,
   "metadata": {},
   "outputs": [
    {
     "data": {
      "text/plain": [
       "0    10\n",
       "1     3\n",
       "2    22\n",
       "dtype: int64"
      ]
     },
     "execution_count": 35,
     "metadata": {},
     "output_type": "execute_result"
    }
   ],
   "source": [
    "stock"
   ]
  },
  {
   "cell_type": "markdown",
   "metadata": {},
   "source": [
    "However, an index can be added subsequently:"
   ]
  },
  {
   "cell_type": "code",
   "execution_count": 36,
   "metadata": {
    "collapsed": true
   },
   "outputs": [],
   "source": [
    "stock.index = ['apple', 'orange', 'banana']"
   ]
  },
  {
   "cell_type": "code",
   "execution_count": 37,
   "metadata": {},
   "outputs": [
    {
     "data": {
      "text/plain": [
       "apple     10\n",
       "orange     3\n",
       "banana    22\n",
       "dtype: int64"
      ]
     },
     "execution_count": 37,
     "metadata": {},
     "output_type": "execute_result"
    }
   ],
   "source": [
    "stock\n"
   ]
  },
  {
   "cell_type": "markdown",
   "metadata": {},
   "source": [
    "## Plotting data"
   ]
  },
  {
   "cell_type": "markdown",
   "metadata": {},
   "source": [
    "Commonly used plots are easily accessible via the `plot()` method of the Series object. We have seen a bar plot above already. The `Series.plot()` method accepts an argument `kind` such as `kind=\"bar\"`, but there is an equivalent method `Series.plot.bar()` avaialble.\n",
    "\n",
    "Further examples:"
   ]
  },
  {
   "cell_type": "code",
   "execution_count": 38,
   "metadata": {},
   "outputs": [
    {
     "data": {
      "text/plain": [
       "<matplotlib.axes._subplots.AxesSubplot at 0x119946860>"
      ]
     },
     "execution_count": 38,
     "metadata": {},
     "output_type": "execute_result"
    },
    {
     "data": {
      "image/png": "[encoded data removed]",
      "text/plain": [
       "<Figure size 432x288 with 1 Axes>"
      ]
     },
     "metadata": {},
     "output_type": "display_data"
    }
   ],
   "source": [
    "stock.plot.pie()\n"
   ]
  },
  {
   "cell_type": "markdown",
   "metadata": {},
   "source": [
    "To tailor the plot, we can either get the axis object and modify it subsequently:"
   ]
  },
  {
   "cell_type": "code",
   "execution_count": 39,
   "metadata": {},
   "outputs": [
    {
     "data": {
      "text/plain": [
       "Text(0.5,1,'')"
      ]
     },
     "execution_count": 39,
     "metadata": {},
     "output_type": "execute_result"
    },
    {
     "data": {
      "image/png": "[encoded data removed]",
      "text/plain": [
       "<Figure size 432x288 with 1 Axes>"
      ]
     },
     "metadata": {},
     "output_type": "display_data"
    }
   ],
   "source": [
    "ax = stock.plot.pie()\n",
    "ax.set_aspect(1)\n",
    "ax.set_ylabel(None);\n",
    "ax.set_title(\"\")"
   ]
  },
  {
   "cell_type": "code",
   "execution_count": 40,
   "metadata": {},
   "outputs": [
    {
     "data": {
      "image/png": "[encoded data removed]",
      "text/plain": [
       "<Figure size 648x216 with 1 Axes>"
      ]
     },
     "metadata": {},
     "output_type": "display_data"
    }
   ],
   "source": [
    "import matplotlib.pyplot as plt\n",
    "fig, ax = plt.subplots(1, 1, figsize=(9, 3))\n",
    "stock.plot.bar(ax=ax)\n",
    "ax.set_title(\"Current stock\");"
   ]
  },
  {
   "cell_type": "markdown",
   "metadata": {},
   "source": [
    "We can also fetch the data from the series and drive the plotting \"manually\" ourselves:"
   ]
  },
  {
   "cell_type": "code",
   "execution_count": 41,
   "metadata": {},
   "outputs": [
    {
     "data": {
      "text/plain": [
       "Text(0.5,1,'Stock')"
      ]
     },
     "execution_count": 41,
     "metadata": {},
     "output_type": "execute_result"
    },
    {
     "data": {
      "image/png": "[encoded data removed]",
      "text/plain": [
       "<Figure size 648x216 with 1 Axes>"
      ]
     },
     "metadata": {},
     "output_type": "display_data"
    }
   ],
   "source": [
    "import matplotlib.pyplot as plt\n",
    "\n",
    "names = list(stock.index)\n",
    "values = list(stock.values)\n",
    "\n",
    "fig, ax = plt.subplots(1, 1, figsize=(9, 3))\n",
    "ax.bar(names, values)\n",
    "ax.set_title('Stock')"
   ]
  },
  {
   "cell_type": "markdown",
   "metadata": {},
   "source": [
    "## Missing values\n",
    "\n",
    "\"Real\" data sets tend to be incomplete. Dealing with missing values is an important topic in data science. The agreement in Pandas is that the special floating point value \"NaN\" (standing for `N`ot `a` `N`umber) represents missing data points. For example, if we have a table for the stock, but we don't know the value for `apple`, we would replace it with `NaN`. \n",
    "\n",
    "The special `Nan` value in Python can be created using `float('nan')` or using `numpy.nan` if the `numpy` module is imported."
   ]
  },
  {
   "cell_type": "code",
   "execution_count": 42,
   "metadata": {
    "collapsed": true
   },
   "outputs": [],
   "source": [
    "stock['apple'] = float('nan')"
   ]
  },
  {
   "cell_type": "code",
   "execution_count": 43,
   "metadata": {},
   "outputs": [
    {
     "data": {
      "text/plain": [
       "apple      NaN\n",
       "orange     3.0\n",
       "banana    22.0\n",
       "dtype: float64"
      ]
     },
     "execution_count": 43,
     "metadata": {},
     "output_type": "execute_result"
    }
   ],
   "source": [
    "stock"
   ]
  },
  {
   "cell_type": "markdown",
   "metadata": {},
   "source": [
    "Note that the `dtype` of the `stock` Series object has changed from `int64` to `float64` when we assigned `NaN` to `apple`: the whole series has been converted to float, because `NaN` is only defined for floating point numbers. \n",
    "\n",
    "(There is a proposal to create a `NaN` object as part of pandas - this would overcome the above limitation.)\n",
    "\n",
    "Assume we need to calculate how many items of stock we have in total using the `sum` function:"
   ]
  },
  {
   "cell_type": "code",
   "execution_count": 44,
   "metadata": {},
   "outputs": [
    {
     "data": {
      "text/plain": [
       "array([nan,  3., 22.])"
      ]
     },
     "execution_count": 44,
     "metadata": {},
     "output_type": "execute_result"
    }
   ],
   "source": [
    "stock.values"
   ]
  },
  {
   "cell_type": "markdown",
   "metadata": {},
   "source": [
    "A common situation is that we have an incomplete Series or DataFrame (which are multiple Series with the same index) and we want to process with our analysis, but treat the missing values in a special way."
   ]
  },
  {
   "cell_type": "code",
   "execution_count": 45,
   "metadata": {},
   "outputs": [
    {
     "data": {
      "text/plain": [
       "25.0"
      ]
     },
     "execution_count": 45,
     "metadata": {},
     "output_type": "execute_result"
    }
   ],
   "source": [
    "stock.sum()"
   ]
  },
  {
   "cell_type": "markdown",
   "metadata": {},
   "source": [
    "The above example `sum` shows that `NaN` values are simply ignored, which can be convenient."
   ]
  },
  {
   "cell_type": "markdown",
   "metadata": {},
   "source": [
    "We can also 'tidy up' the Series object, by removing all entries that have a `NaN` value:"
   ]
  },
  {
   "cell_type": "code",
   "execution_count": 46,
   "metadata": {},
   "outputs": [
    {
     "data": {
      "text/plain": [
       "orange     3.0\n",
       "banana    22.0\n",
       "dtype: float64"
      ]
     },
     "execution_count": 46,
     "metadata": {},
     "output_type": "execute_result"
    }
   ],
   "source": [
    "stock.dropna()"
   ]
  },
  {
   "cell_type": "markdown",
   "metadata": {},
   "source": [
    "## Series data access: explicit and implicit (`loc` and `iloc`)"
   ]
  },
  {
   "cell_type": "code",
   "execution_count": 47,
   "metadata": {
    "collapsed": true
   },
   "outputs": [],
   "source": [
    "stock = pd.Series({'apple': 10, \n",
    "                   'orange': 3,\n",
    "                   'banana': 22,\n",
    "                   'cucumber' : 1,\n",
    "                   'potato' : 110})"
   ]
  },
  {
   "cell_type": "code",
   "execution_count": 48,
   "metadata": {},
   "outputs": [
    {
     "data": {
      "text/plain": [
       "apple        10\n",
       "orange        3\n",
       "banana       22\n",
       "cucumber      1\n",
       "potato      110\n",
       "dtype: int64"
      ]
     },
     "execution_count": 48,
     "metadata": {},
     "output_type": "execute_result"
    }
   ],
   "source": [
    "stock"
   ]
  },
  {
   "cell_type": "markdown",
   "metadata": {},
   "source": [
    "### Indexing\n",
    "\n",
    "We can access single values through their index as if the stock Series object would be a dictionary:"
   ]
  },
  {
   "cell_type": "code",
   "execution_count": 49,
   "metadata": {},
   "outputs": [
    {
     "data": {
      "text/plain": [
       "22"
      ]
     },
     "execution_count": 49,
     "metadata": {},
     "output_type": "execute_result"
    }
   ],
   "source": [
    "stock['banana']"
   ]
  },
  {
   "cell_type": "markdown",
   "metadata": {},
   "source": [
    "There is an equivalent and recommended way of using this retrieval using the `loc` (for LOCation?) attribute:"
   ]
  },
  {
   "cell_type": "code",
   "execution_count": 50,
   "metadata": {},
   "outputs": [
    {
     "data": {
      "text/plain": [
       "22"
      ]
     },
     "execution_count": 50,
     "metadata": {},
     "output_type": "execute_result"
    }
   ],
   "source": [
    "stock.loc['banana']"
   ]
  },
  {
   "cell_type": "markdown",
   "metadata": {},
   "source": [
    "For convenience, pandas also (!) allows us to use integer indexing into the Series object. This is called *implicit* indexing as the series Object doesn't use integers as the index, but the name of the fruits.\n",
    "\n",
    "For example, we can also retrieve the value for `banana` through its implicit index 2, because it is in row 3 of the Series object (which would need index 2 as we start counting from 0):\n"
   ]
  },
  {
   "cell_type": "code",
   "execution_count": 51,
   "metadata": {},
   "outputs": [
    {
     "data": {
      "text/plain": [
       "22"
      ]
     },
     "execution_count": 51,
     "metadata": {},
     "output_type": "execute_result"
    }
   ],
   "source": [
    "stock[2]"
   ]
  },
  {
   "cell_type": "markdown",
   "metadata": {},
   "source": [
    "In this example, this works fine and seems convenient, but can become very confusing if the actual index of the object consists of integers. For that reason, the explicit (and recommended way) of using the indirect indexing is through the `iloc` (ImplicitLOCation) attribute:"
   ]
  },
  {
   "cell_type": "code",
   "execution_count": 52,
   "metadata": {},
   "outputs": [
    {
     "data": {
      "text/plain": [
       "22"
      ]
     },
     "execution_count": 52,
     "metadata": {},
     "output_type": "execute_result"
    }
   ],
   "source": [
    "stock.iloc[2]"
   ]
  },
  {
   "cell_type": "markdown",
   "metadata": {},
   "source": [
    "### Slicing"
   ]
  },
  {
   "cell_type": "code",
   "execution_count": 53,
   "metadata": {},
   "outputs": [
    {
     "data": {
      "text/plain": [
       "apple        10\n",
       "orange        3\n",
       "banana       22\n",
       "cucumber      1\n",
       "potato      110\n",
       "dtype: int64"
      ]
     },
     "execution_count": 53,
     "metadata": {},
     "output_type": "execute_result"
    }
   ],
   "source": [
    "stock"
   ]
  },
  {
   "cell_type": "markdown",
   "metadata": {},
   "source": [
    "We can also slice the Series:"
   ]
  },
  {
   "cell_type": "code",
   "execution_count": 54,
   "metadata": {},
   "outputs": [
    {
     "data": {
      "text/plain": [
       "orange        3\n",
       "banana       22\n",
       "cucumber      1\n",
       "potato      110\n",
       "dtype: int64"
      ]
     },
     "execution_count": 54,
     "metadata": {},
     "output_type": "execute_result"
    }
   ],
   "source": [
    "stock['orange':'potato']"
   ]
  },
  {
   "cell_type": "markdown",
   "metadata": {},
   "source": [
    "Or skip every second entry:\n",
    "\n"
   ]
  },
  {
   "cell_type": "code",
   "execution_count": 55,
   "metadata": {},
   "outputs": [
    {
     "data": {
      "text/plain": [
       "orange      3\n",
       "cucumber    1\n",
       "dtype: int64"
      ]
     },
     "execution_count": 55,
     "metadata": {},
     "output_type": "execute_result"
    }
   ],
   "source": [
    "stock['orange':'potato':2]"
   ]
  },
  {
   "cell_type": "markdown",
   "metadata": {},
   "source": [
    "### Data manipulation"
   ]
  },
  {
   "cell_type": "markdown",
   "metadata": {},
   "source": [
    "Numerical operations on the series object can be carried for all data values at the same time inthe same way that numpy arrays are processed:"
   ]
  },
  {
   "cell_type": "code",
   "execution_count": 56,
   "metadata": {},
   "outputs": [
    {
     "data": {
      "text/plain": [
       "apple      -19.2\n",
       "orange     -26.2\n",
       "banana      -7.2\n",
       "cucumber   -28.2\n",
       "potato      80.8\n",
       "dtype: float64"
      ]
     },
     "execution_count": 56,
     "metadata": {},
     "output_type": "execute_result"
    }
   ],
   "source": [
    "stock - stock.mean()"
   ]
  },
  {
   "cell_type": "code",
   "execution_count": 57,
   "metadata": {
    "collapsed": true
   },
   "outputs": [],
   "source": [
    "import numpy as np"
   ]
  },
  {
   "cell_type": "code",
   "execution_count": 58,
   "metadata": {},
   "outputs": [
    {
     "data": {
      "text/plain": [
       "apple        3.162278\n",
       "orange       1.732051\n",
       "banana       4.690416\n",
       "cucumber     1.000000\n",
       "potato      10.488088\n",
       "dtype: float64"
      ]
     },
     "execution_count": 58,
     "metadata": {},
     "output_type": "execute_result"
    }
   ],
   "source": [
    "np.sqrt(stock)"
   ]
  },
  {
   "cell_type": "markdown",
   "metadata": {},
   "source": [
    "Where preferred, we can extract the numpy array and work with that:"
   ]
  },
  {
   "cell_type": "code",
   "execution_count": 59,
   "metadata": {
    "collapsed": true
   },
   "outputs": [],
   "source": [
    "data = stock.values"
   ]
  },
  {
   "cell_type": "code",
   "execution_count": 60,
   "metadata": {},
   "outputs": [
    {
     "data": {
      "text/plain": [
       "numpy.ndarray"
      ]
     },
     "execution_count": 60,
     "metadata": {},
     "output_type": "execute_result"
    }
   ],
   "source": [
    "type(data)"
   ]
  },
  {
   "cell_type": "code",
   "execution_count": 61,
   "metadata": {},
   "outputs": [
    {
     "data": {
      "text/plain": [
       "array([-19.2, -26.2,  -7.2, -28.2,  80.8])"
      ]
     },
     "execution_count": 61,
     "metadata": {},
     "output_type": "execute_result"
    }
   ],
   "source": [
    "data - data.mean()"
   ]
  },
  {
   "cell_type": "markdown",
   "metadata": {},
   "source": [
    "### Import and Export\n",
    "\n",
    "Pandas (and its objects `Series` and `DataFrame`) support export to and import from a number of useful formats.\n",
    "\n",
    "For example, we can write a `Series` object into a comma separated value file:"
   ]
  },
  {
   "cell_type": "code",
   "execution_count": 62,
   "metadata": {
    "collapsed": true
   },
   "outputs": [],
   "source": [
    "stock.to_csv('stock.csv', header=False)"
   ]
  },
  {
   "cell_type": "code",
   "execution_count": 63,
   "metadata": {},
   "outputs": [
    {
     "name": "stdout",
     "output_type": "stream",
     "text": [
      "apple,10\r\n",
      "orange,3\r\n",
      "banana,22\r\n",
      "cucumber,1\r\n",
      "potato,110\r\n"
     ]
    }
   ],
   "source": [
    "#NBVAL_IGNORE_OUTPUT\n",
    "!cat stock.csv"
   ]
  },
  {
   "cell_type": "markdown",
   "metadata": {},
   "source": [
    "We can also create a $\\LaTeX$ representation of the table:"
   ]
  },
  {
   "cell_type": "code",
   "execution_count": 64,
   "metadata": {},
   "outputs": [
    {
     "data": {
      "text/plain": [
       "'\\\\begin{tabular}{lr}\\n\\\\toprule\\n{} &    0 \\\\\\\\\\n\\\\midrule\\napple    &   10 \\\\\\\\\\norange   &    3 \\\\\\\\\\nbanana   &   22 \\\\\\\\\\ncucumber &    1 \\\\\\\\\\npotato   &  110 \\\\\\\\\\n\\\\bottomrule\\n\\\\end{tabular}\\n'"
      ]
     },
     "execution_count": 64,
     "metadata": {},
     "output_type": "execute_result"
    }
   ],
   "source": [
    "stock.to_latex()"
   ]
  },
  {
   "cell_type": "markdown",
   "metadata": {},
   "source": [
    "We'll come back to reading from files in the `DataFrame` section."
   ]
  },
  {
   "cell_type": "markdown",
   "metadata": {},
   "source": [
    "## Data Frame"
   ]
  },
  {
   "cell_type": "markdown",
   "metadata": {},
   "source": [
    "### Stock Example - `DataFrame`"
   ]
  },
  {
   "cell_type": "markdown",
   "metadata": {},
   "source": [
    "After having introduced the `Series` object above, we will focus on the second important type in pandas: the `DataFrame`.\n",
    "\n",
    "As a first description, we could say that the `DataFrame` is similar to a (2d) spreadsheet: it contains rows and columns.\n",
    "\n",
    "The series object we have studied above is a special case of the `DataFrame`, where the `DataFrame` has only one column.\n",
    "\n",
    "We'll continue with our stock example:"
   ]
  },
  {
   "cell_type": "code",
   "execution_count": 65,
   "metadata": {},
   "outputs": [
    {
     "data": {
      "text/plain": [
       "apple        10\n",
       "orange        3\n",
       "banana       22\n",
       "cucumber      1\n",
       "potato      110\n",
       "dtype: int64"
      ]
     },
     "execution_count": 65,
     "metadata": {},
     "output_type": "execute_result"
    }
   ],
   "source": [
    "stock"
   ]
  },
  {
   "cell_type": "markdown",
   "metadata": {},
   "source": [
    "In addition to tracking how many objects of each type we have stocked, we have a second Series object that provides the price per item at which the item is sold:"
   ]
  },
  {
   "cell_type": "code",
   "execution_count": 66,
   "metadata": {},
   "outputs": [
    {
     "data": {
      "text/plain": [
       "apple       0.55\n",
       "banana      0.50\n",
       "cucumber    0.99\n",
       "potato      0.17\n",
       "orange      1.76\n",
       "dtype: float64"
      ]
     },
     "execution_count": 66,
     "metadata": {},
     "output_type": "execute_result"
    }
   ],
   "source": [
    "price = pd.Series({'apple': 0.55, 'banana': 0.50, 'cucumber' : 0.99, 'potato' : 0.17, 'orange': 1.76})\n",
    "price"
   ]
  },
  {
   "cell_type": "markdown",
   "metadata": {},
   "source": [
    "The `DataFrame` object allows us to treat the two series together. In fact, a convenient way to create the `DataFrame` object is to combine a number of series as follows:"
   ]
  },
  {
   "cell_type": "code",
   "execution_count": 67,
   "metadata": {},
   "outputs": [
    {
     "data": {
      "text/html": [
       "<div>\n",
       "<style scoped>\n",
       "    .dataframe tbody tr th:only-of-type {\n",
       "        vertical-align: middle;\n",
       "    }\n",
       "\n",
       "    .dataframe tbody tr th {\n",
       "        vertical-align: top;\n",
       "    }\n",
       "\n",
       "    .dataframe thead th {\n",
       "        text-align: right;\n",
       "    }\n",
       "</style>\n",
       "<table border=\"1\" class=\"dataframe\">\n",
       "  <thead>\n",
       "    <tr style=\"text-align: right;\">\n",
       "      <th></th>\n",
       "      <th>stock</th>\n",
       "      <th>price</th>\n",
       "    </tr>\n",
       "  </thead>\n",
       "  <tbody>\n",
       "    <tr>\n",
       "      <th>apple</th>\n",
       "      <td>10</td>\n",
       "      <td>0.55</td>\n",
       "    </tr>\n",
       "    <tr>\n",
       "      <th>banana</th>\n",
       "      <td>22</td>\n",
       "      <td>0.50</td>\n",
       "    </tr>\n",
       "    <tr>\n",
       "      <th>cucumber</th>\n",
       "      <td>1</td>\n",
       "      <td>0.99</td>\n",
       "    </tr>\n",
       "    <tr>\n",
       "      <th>orange</th>\n",
       "      <td>3</td>\n",
       "      <td>1.76</td>\n",
       "    </tr>\n",
       "    <tr>\n",
       "      <th>potato</th>\n",
       "      <td>110</td>\n",
       "      <td>0.17</td>\n",
       "    </tr>\n",
       "  </tbody>\n",
       "</table>\n",
       "</div>"
      ],
      "text/plain": [
       "          stock  price\n",
       "apple        10   0.55\n",
       "banana       22   0.50\n",
       "cucumber      1   0.99\n",
       "orange        3   1.76\n",
       "potato      110   0.17"
      ]
     },
     "execution_count": 67,
     "metadata": {},
     "output_type": "execute_result"
    }
   ],
   "source": [
    "shop = pd.DataFrame({'stock' : stock, 'price' : price})\n",
    "shop"
   ]
  },
  {
   "cell_type": "markdown",
   "metadata": {},
   "source": [
    "Because both `Series` objects had the same `index` elements, our data is nicely aligned in the `DataFrame` with name `shop`, even though the data was stored in different order in the `price` and `stock`."
   ]
  },
  {
   "cell_type": "markdown",
   "metadata": {},
   "source": [
    "If one Series is missing a data point, pandas will insert a `NaN` entry into that field:"
   ]
  },
  {
   "cell_type": "code",
   "execution_count": 68,
   "metadata": {
    "collapsed": true
   },
   "outputs": [],
   "source": [
    "price2 = price.copy()"
   ]
  },
  {
   "cell_type": "code",
   "execution_count": 69,
   "metadata": {},
   "outputs": [
    {
     "data": {
      "text/plain": [
       "apple         0.55\n",
       "banana        0.50\n",
       "cucumber      0.99\n",
       "potato        0.17\n",
       "orange        1.76\n",
       "grapefruit    1.99\n",
       "dtype: float64"
      ]
     },
     "execution_count": 69,
     "metadata": {},
     "output_type": "execute_result"
    }
   ],
   "source": [
    "price2['grapefruit'] = 1.99\n",
    "price2"
   ]
  },
  {
   "cell_type": "code",
   "execution_count": 70,
   "metadata": {},
   "outputs": [
    {
     "data": {
      "text/html": [
       "<div>\n",
       "<style scoped>\n",
       "    .dataframe tbody tr th:only-of-type {\n",
       "        vertical-align: middle;\n",
       "    }\n",
       "\n",
       "    .dataframe tbody tr th {\n",
       "        vertical-align: top;\n",
       "    }\n",
       "\n",
       "    .dataframe thead th {\n",
       "        text-align: right;\n",
       "    }\n",
       "</style>\n",
       "<table border=\"1\" class=\"dataframe\">\n",
       "  <thead>\n",
       "    <tr style=\"text-align: right;\">\n",
       "      <th></th>\n",
       "      <th>stock</th>\n",
       "      <th>price</th>\n",
       "    </tr>\n",
       "  </thead>\n",
       "  <tbody>\n",
       "    <tr>\n",
       "      <th>apple</th>\n",
       "      <td>10.0</td>\n",
       "      <td>0.55</td>\n",
       "    </tr>\n",
       "    <tr>\n",
       "      <th>banana</th>\n",
       "      <td>22.0</td>\n",
       "      <td>0.50</td>\n",
       "    </tr>\n",
       "    <tr>\n",
       "      <th>cucumber</th>\n",
       "      <td>1.0</td>\n",
       "      <td>0.99</td>\n",
       "    </tr>\n",
       "    <tr>\n",
       "      <th>grapefruit</th>\n",
       "      <td>NaN</td>\n",
       "      <td>1.99</td>\n",
       "    </tr>\n",
       "    <tr>\n",
       "      <th>orange</th>\n",
       "      <td>3.0</td>\n",
       "      <td>1.76</td>\n",
       "    </tr>\n",
       "    <tr>\n",
       "      <th>potato</th>\n",
       "      <td>110.0</td>\n",
       "      <td>0.17</td>\n",
       "    </tr>\n",
       "  </tbody>\n",
       "</table>\n",
       "</div>"
      ],
      "text/plain": [
       "            stock  price\n",
       "apple        10.0   0.55\n",
       "banana       22.0   0.50\n",
       "cucumber      1.0   0.99\n",
       "grapefruit    NaN   1.99\n",
       "orange        3.0   1.76\n",
       "potato      110.0   0.17"
      ]
     },
     "execution_count": 70,
     "metadata": {},
     "output_type": "execute_result"
    }
   ],
   "source": [
    "pd.DataFrame({'stock' : stock, 'price' : price2})"
   ]
  },
  {
   "cell_type": "markdown",
   "metadata": {},
   "source": [
    "### Accessing data in a DataFramea\n"
   ]
  },
  {
   "cell_type": "code",
   "execution_count": 71,
   "metadata": {},
   "outputs": [
    {
     "data": {
      "text/html": [
       "<div>\n",
       "<style scoped>\n",
       "    .dataframe tbody tr th:only-of-type {\n",
       "        vertical-align: middle;\n",
       "    }\n",
       "\n",
       "    .dataframe tbody tr th {\n",
       "        vertical-align: top;\n",
       "    }\n",
       "\n",
       "    .dataframe thead th {\n",
       "        text-align: right;\n",
       "    }\n",
       "</style>\n",
       "<table border=\"1\" class=\"dataframe\">\n",
       "  <thead>\n",
       "    <tr style=\"text-align: right;\">\n",
       "      <th></th>\n",
       "      <th>stock</th>\n",
       "      <th>price</th>\n",
       "    </tr>\n",
       "  </thead>\n",
       "  <tbody>\n",
       "    <tr>\n",
       "      <th>apple</th>\n",
       "      <td>10</td>\n",
       "      <td>0.55</td>\n",
       "    </tr>\n",
       "    <tr>\n",
       "      <th>banana</th>\n",
       "      <td>22</td>\n",
       "      <td>0.50</td>\n",
       "    </tr>\n",
       "    <tr>\n",
       "      <th>cucumber</th>\n",
       "      <td>1</td>\n",
       "      <td>0.99</td>\n",
       "    </tr>\n",
       "    <tr>\n",
       "      <th>orange</th>\n",
       "      <td>3</td>\n",
       "      <td>1.76</td>\n",
       "    </tr>\n",
       "    <tr>\n",
       "      <th>potato</th>\n",
       "      <td>110</td>\n",
       "      <td>0.17</td>\n",
       "    </tr>\n",
       "  </tbody>\n",
       "</table>\n",
       "</div>"
      ],
      "text/plain": [
       "          stock  price\n",
       "apple        10   0.55\n",
       "banana       22   0.50\n",
       "cucumber      1   0.99\n",
       "orange        3   1.76\n",
       "potato      110   0.17"
      ]
     },
     "execution_count": 71,
     "metadata": {},
     "output_type": "execute_result"
    }
   ],
   "source": [
    "shop"
   ]
  },
  {
   "cell_type": "markdown",
   "metadata": {},
   "source": [
    "The data frame has an *index* which is the same for all columns, and shown in bold in the left most column. We can also ask for it:"
   ]
  },
  {
   "cell_type": "code",
   "execution_count": 72,
   "metadata": {},
   "outputs": [
    {
     "data": {
      "text/plain": [
       "Index(['apple', 'banana', 'cucumber', 'orange', 'potato'], dtype='object')"
      ]
     },
     "execution_count": 72,
     "metadata": {},
     "output_type": "execute_result"
    }
   ],
   "source": [
    "shop.index"
   ]
  },
  {
   "cell_type": "markdown",
   "metadata": {},
   "source": [
    "Each column has name (here `stock` and `price`):"
   ]
  },
  {
   "cell_type": "code",
   "execution_count": 73,
   "metadata": {},
   "outputs": [
    {
     "data": {
      "text/plain": [
       "Index(['stock', 'price'], dtype='object')"
      ]
     },
     "execution_count": 73,
     "metadata": {},
     "output_type": "execute_result"
    }
   ],
   "source": [
    "shop.columns"
   ]
  },
  {
   "cell_type": "markdown",
   "metadata": {},
   "source": [
    "### Extracting columns of data\n",
    "\n",
    "Using the column names, we can extract one column into a Series object using the index operator (`[]`):"
   ]
  },
  {
   "cell_type": "code",
   "execution_count": 74,
   "metadata": {},
   "outputs": [
    {
     "data": {
      "text/plain": [
       "apple        10\n",
       "banana       22\n",
       "cucumber      1\n",
       "orange        3\n",
       "potato      110\n",
       "Name: stock, dtype: int64"
      ]
     },
     "execution_count": 74,
     "metadata": {},
     "output_type": "execute_result"
    }
   ],
   "source": [
    "shop['stock']"
   ]
  },
  {
   "cell_type": "code",
   "execution_count": 75,
   "metadata": {},
   "outputs": [
    {
     "data": {
      "text/plain": [
       "apple       0.55\n",
       "banana      0.50\n",
       "cucumber    0.99\n",
       "orange      1.76\n",
       "potato      0.17\n",
       "Name: price, dtype: float64"
      ]
     },
     "execution_count": 75,
     "metadata": {},
     "output_type": "execute_result"
    }
   ],
   "source": [
    "shop['price']"
   ]
  },
  {
   "cell_type": "markdown",
   "metadata": {},
   "source": [
    "\n",
    "### Extracting rows of data"
   ]
  },
  {
   "cell_type": "markdown",
   "metadata": {},
   "source": [
    "We have two options of extracting a row of data. \n",
    "\n",
    "First, explicit indexing using the label of the index in that row:"
   ]
  },
  {
   "cell_type": "code",
   "execution_count": 76,
   "metadata": {},
   "outputs": [
    {
     "data": {
      "text/plain": [
       "stock    10.00\n",
       "price     0.55\n",
       "Name: apple, dtype: float64"
      ]
     },
     "execution_count": 76,
     "metadata": {},
     "output_type": "execute_result"
    }
   ],
   "source": [
    "shop.loc['apple']             # single row is returned as series"
   ]
  },
  {
   "cell_type": "code",
   "execution_count": 77,
   "metadata": {},
   "outputs": [
    {
     "data": {
      "text/html": [
       "<div>\n",
       "<style scoped>\n",
       "    .dataframe tbody tr th:only-of-type {\n",
       "        vertical-align: middle;\n",
       "    }\n",
       "\n",
       "    .dataframe tbody tr th {\n",
       "        vertical-align: top;\n",
       "    }\n",
       "\n",
       "    .dataframe thead th {\n",
       "        text-align: right;\n",
       "    }\n",
       "</style>\n",
       "<table border=\"1\" class=\"dataframe\">\n",
       "  <thead>\n",
       "    <tr style=\"text-align: right;\">\n",
       "      <th></th>\n",
       "      <th>stock</th>\n",
       "      <th>price</th>\n",
       "    </tr>\n",
       "  </thead>\n",
       "  <tbody>\n",
       "    <tr>\n",
       "      <th>banana</th>\n",
       "      <td>22</td>\n",
       "      <td>0.50</td>\n",
       "    </tr>\n",
       "    <tr>\n",
       "      <th>cucumber</th>\n",
       "      <td>1</td>\n",
       "      <td>0.99</td>\n",
       "    </tr>\n",
       "  </tbody>\n",
       "</table>\n",
       "</div>"
      ],
      "text/plain": [
       "          stock  price\n",
       "banana       22   0.50\n",
       "cucumber      1   0.99"
      ]
     },
     "execution_count": 77,
     "metadata": {},
     "output_type": "execute_result"
    }
   ],
   "source": [
    "shop.loc['banana':'cucumber']  # multiple rows are returned as DataFrame"
   ]
  },
  {
   "cell_type": "markdown",
   "metadata": {},
   "source": [
    "Second, we can use the implicit indexing (as for Series objects):"
   ]
  },
  {
   "cell_type": "code",
   "execution_count": 78,
   "metadata": {},
   "outputs": [
    {
     "data": {
      "text/plain": [
       "stock    10.00\n",
       "price     0.55\n",
       "Name: apple, dtype: float64"
      ]
     },
     "execution_count": 78,
     "metadata": {},
     "output_type": "execute_result"
    }
   ],
   "source": [
    "shop.iloc[0]"
   ]
  },
  {
   "cell_type": "code",
   "execution_count": 79,
   "metadata": {},
   "outputs": [
    {
     "data": {
      "text/html": [
       "<div>\n",
       "<style scoped>\n",
       "    .dataframe tbody tr th:only-of-type {\n",
       "        vertical-align: middle;\n",
       "    }\n",
       "\n",
       "    .dataframe tbody tr th {\n",
       "        vertical-align: top;\n",
       "    }\n",
       "\n",
       "    .dataframe thead th {\n",
       "        text-align: right;\n",
       "    }\n",
       "</style>\n",
       "<table border=\"1\" class=\"dataframe\">\n",
       "  <thead>\n",
       "    <tr style=\"text-align: right;\">\n",
       "      <th></th>\n",
       "      <th>stock</th>\n",
       "      <th>price</th>\n",
       "    </tr>\n",
       "  </thead>\n",
       "  <tbody>\n",
       "    <tr>\n",
       "      <th>banana</th>\n",
       "      <td>22</td>\n",
       "      <td>0.50</td>\n",
       "    </tr>\n",
       "    <tr>\n",
       "      <th>cucumber</th>\n",
       "      <td>1</td>\n",
       "      <td>0.99</td>\n",
       "    </tr>\n",
       "  </tbody>\n",
       "</table>\n",
       "</div>"
      ],
      "text/plain": [
       "          stock  price\n",
       "banana       22   0.50\n",
       "cucumber      1   0.99"
      ]
     },
     "execution_count": 79,
     "metadata": {},
     "output_type": "execute_result"
    }
   ],
   "source": [
    "shop.iloc[1:3]"
   ]
  },
  {
   "cell_type": "markdown",
   "metadata": {},
   "source": [
    "#### Warning\n",
    "\n",
    "Note that there are some inconsistencies here: the explicit slicing with index labels (such as `.loc['banana':'cucumber']`) is inclusive of `cucumber`, whereas in the implicit slicing (such as `.iloc[1:3]`) the row with index `3` is *not* included.\n",
    "\n",
    "The behaviour of `.loc` is convenient and a good design choice if labels such as strings in our `stock` example are used. The behaviour of `.iloc` is reflecting the normal Python behaviour.\n",
    "\n",
    "It is thus understandable how we have arrived at the situation.\n",
    "\n"
   ]
  },
  {
   "cell_type": "markdown",
   "metadata": {},
   "source": [
    "### Data manipulation with `shop`"
   ]
  },
  {
   "cell_type": "markdown",
   "metadata": {},
   "source": [
    "The real strength of the DataFrames is that we can continue to process the data conveniently. \n",
    "\n",
    "For example, we could work out the financial value of the items we have in stock, and add this as an extra column:"
   ]
  },
  {
   "cell_type": "code",
   "execution_count": 80,
   "metadata": {},
   "outputs": [
    {
     "data": {
      "text/html": [
       "<div>\n",
       "<style scoped>\n",
       "    .dataframe tbody tr th:only-of-type {\n",
       "        vertical-align: middle;\n",
       "    }\n",
       "\n",
       "    .dataframe tbody tr th {\n",
       "        vertical-align: top;\n",
       "    }\n",
       "\n",
       "    .dataframe thead th {\n",
       "        text-align: right;\n",
       "    }\n",
       "</style>\n",
       "<table border=\"1\" class=\"dataframe\">\n",
       "  <thead>\n",
       "    <tr style=\"text-align: right;\">\n",
       "      <th></th>\n",
       "      <th>stock</th>\n",
       "      <th>price</th>\n",
       "      <th>value</th>\n",
       "    </tr>\n",
       "  </thead>\n",
       "  <tbody>\n",
       "    <tr>\n",
       "      <th>apple</th>\n",
       "      <td>10</td>\n",
       "      <td>0.55</td>\n",
       "      <td>5.50</td>\n",
       "    </tr>\n",
       "    <tr>\n",
       "      <th>banana</th>\n",
       "      <td>22</td>\n",
       "      <td>0.50</td>\n",
       "      <td>11.00</td>\n",
       "    </tr>\n",
       "    <tr>\n",
       "      <th>cucumber</th>\n",
       "      <td>1</td>\n",
       "      <td>0.99</td>\n",
       "      <td>0.99</td>\n",
       "    </tr>\n",
       "    <tr>\n",
       "      <th>orange</th>\n",
       "      <td>3</td>\n",
       "      <td>1.76</td>\n",
       "      <td>5.28</td>\n",
       "    </tr>\n",
       "    <tr>\n",
       "      <th>potato</th>\n",
       "      <td>110</td>\n",
       "      <td>0.17</td>\n",
       "      <td>18.70</td>\n",
       "    </tr>\n",
       "  </tbody>\n",
       "</table>\n",
       "</div>"
      ],
      "text/plain": [
       "          stock  price  value\n",
       "apple        10   0.55   5.50\n",
       "banana       22   0.50  11.00\n",
       "cucumber      1   0.99   0.99\n",
       "orange        3   1.76   5.28\n",
       "potato      110   0.17  18.70"
      ]
     },
     "execution_count": 80,
     "metadata": {},
     "output_type": "execute_result"
    }
   ],
   "source": [
    "shop['value'] = shop['price'] * shop['stock']\n",
    "shop"
   ]
  },
  {
   "cell_type": "markdown",
   "metadata": {},
   "source": [
    "Of course we can compute the sum, for example, to estimate the value of the total stock:"
   ]
  },
  {
   "cell_type": "code",
   "execution_count": 81,
   "metadata": {},
   "outputs": [
    {
     "data": {
      "text/plain": [
       "41.47"
      ]
     },
     "execution_count": 81,
     "metadata": {},
     "output_type": "execute_result"
    }
   ],
   "source": [
    "shop['value'].sum()"
   ]
  },
  {
   "cell_type": "markdown",
   "metadata": {},
   "source": [
    "If, for whatever reason, we want to swap columns with rows, we can `transpose` the data frame like a numpy array:"
   ]
  },
  {
   "cell_type": "code",
   "execution_count": 83,
   "metadata": {},
   "outputs": [
    {
     "data": {
      "text/html": [
       "<div>\n",
       "<style scoped>\n",
       "    .dataframe tbody tr th:only-of-type {\n",
       "        vertical-align: middle;\n",
       "    }\n",
       "\n",
       "    .dataframe tbody tr th {\n",
       "        vertical-align: top;\n",
       "    }\n",
       "\n",
       "    .dataframe thead th {\n",
       "        text-align: right;\n",
       "    }\n",
       "</style>\n",
       "<table border=\"1\" class=\"dataframe\">\n",
       "  <thead>\n",
       "    <tr style=\"text-align: right;\">\n",
       "      <th></th>\n",
       "      <th>apple</th>\n",
       "      <th>banana</th>\n",
       "      <th>cucumber</th>\n",
       "      <th>orange</th>\n",
       "      <th>potato</th>\n",
       "    </tr>\n",
       "  </thead>\n",
       "  <tbody>\n",
       "    <tr>\n",
       "      <th>stock</th>\n",
       "      <td>10.00</td>\n",
       "      <td>22.0</td>\n",
       "      <td>1.00</td>\n",
       "      <td>3.00</td>\n",
       "      <td>110.00</td>\n",
       "    </tr>\n",
       "    <tr>\n",
       "      <th>price</th>\n",
       "      <td>0.55</td>\n",
       "      <td>0.5</td>\n",
       "      <td>0.99</td>\n",
       "      <td>1.76</td>\n",
       "      <td>0.17</td>\n",
       "    </tr>\n",
       "    <tr>\n",
       "      <th>value</th>\n",
       "      <td>5.50</td>\n",
       "      <td>11.0</td>\n",
       "      <td>0.99</td>\n",
       "      <td>5.28</td>\n",
       "      <td>18.70</td>\n",
       "    </tr>\n",
       "  </tbody>\n",
       "</table>\n",
       "</div>"
      ],
      "text/plain": [
       "       apple  banana  cucumber  orange  potato\n",
       "stock  10.00    22.0      1.00    3.00  110.00\n",
       "price   0.55     0.5      0.99    1.76    0.17\n",
       "value   5.50    11.0      0.99    5.28   18.70"
      ]
     },
     "execution_count": 83,
     "metadata": {},
     "output_type": "execute_result"
    }
   ],
   "source": [
    "shop.transpose()"
   ]
  },
  {
   "cell_type": "markdown",
   "metadata": {},
   "source": [
    "## Example: European population 2017\n",
    "\n",
    "Here is a second example to demonstrate some use cases of pandas DataFrames."
   ]
  },
  {
   "cell_type": "markdown",
   "metadata": {},
   "source": [
    "First, we get the data. It is originally from EUROSTAT (reference \"demo_gind\")"
   ]
  },
  {
   "cell_type": "code",
   "execution_count": 84,
   "metadata": {},
   "outputs": [
    {
     "name": "stdout",
     "output_type": "stream",
     "text": [
      "--2019-06-19 20:24:00--  https://fangohr.github.io/data/eurostat/population2017/eu-pop-2017.csv\n",
      "Resolving fangohr.github.io... 185.199.108.153, 185.199.109.153, 185.199.111.153, ...\n",
      "Connecting to fangohr.github.io|185.199.108.153|:443... connected.\n",
      "HTTP request sent, awaiting response... 200 OK\n",
      "Length: 1087 (1.1K) [text/csv]\n",
      "Saving to: ‘eu-pop-2017.csv’\n",
      "\n",
      "eu-pop-2017.csv     100%[===================>]   1.06K  --.-KB/s    in 0s      \n",
      "\n",
      "2019-06-19 20:24:01 (26.6 MB/s) - ‘eu-pop-2017.csv’ saved [1087/1087]\n",
      "\n"
     ]
    }
   ],
   "source": [
    "#NBVAL_IGNORE_OUTPUT\n",
    "!wget https://fangohr.github.io/data/eurostat/population2017/eu-pop-2017.csv"
   ]
  },
  {
   "cell_type": "markdown",
   "metadata": {},
   "source": [
    "The data source is a comma-separated-value file (CSV), which looks like this:"
   ]
  },
  {
   "cell_type": "code",
   "execution_count": 85,
   "metadata": {},
   "outputs": [
    {
     "name": "stdout",
     "output_type": "stream",
     "text": [
      "geo,pop17,pop18,births,deaths\r\n",
      "Belgium ,11351727,11413058,119690,109666\r\n",
      "Bulgaria,7101859,7050034,63955,109791\r\n",
      "Czechia,10578820,10610055,114405,111443\r\n",
      "Denmark,5748769,5781190,61397,53261\r\n",
      "Germany,82521653,82850000,785000,933000\r\n",
      "Estonia ,1315634,1319133,13784,15543\r\n",
      "Ireland,4784383,4838259,62084,30324\r\n",
      "Greece,10768193,10738868,88523,124530\r\n",
      "Spain,46527039,46659302,390024,421269\r\n"
     ]
    }
   ],
   "source": [
    "#NBVAL_IGNORE_OUTPUT\n",
    "!head eu-pop-2017.csv"
   ]
  },
  {
   "cell_type": "markdown",
   "metadata": {},
   "source": [
    "Pandas has very strong support of reading files from different formats, including MS Excel, CSV, HDF5 and others. Each reading routine has a number of options to tailor the process.\n",
    "\n",
    "Many data science projects leave the data in their original files, and use a few lines of Python code to import it."
   ]
  },
  {
   "cell_type": "code",
   "execution_count": 86,
   "metadata": {
    "collapsed": true
   },
   "outputs": [],
   "source": [
    "df = pd.read_csv('eu-pop-2017.csv')"
   ]
  },
  {
   "cell_type": "code",
   "execution_count": 87,
   "metadata": {},
   "outputs": [
    {
     "data": {
      "text/html": [
       "<div>\n",
       "<style scoped>\n",
       "    .dataframe tbody tr th:only-of-type {\n",
       "        vertical-align: middle;\n",
       "    }\n",
       "\n",
       "    .dataframe tbody tr th {\n",
       "        vertical-align: top;\n",
       "    }\n",
       "\n",
       "    .dataframe thead th {\n",
       "        text-align: right;\n",
       "    }\n",
       "</style>\n",
       "<table border=\"1\" class=\"dataframe\">\n",
       "  <thead>\n",
       "    <tr style=\"text-align: right;\">\n",
       "      <th></th>\n",
       "      <th>geo</th>\n",
       "      <th>pop17</th>\n",
       "      <th>pop18</th>\n",
       "      <th>births</th>\n",
       "      <th>deaths</th>\n",
       "    </tr>\n",
       "  </thead>\n",
       "  <tbody>\n",
       "    <tr>\n",
       "      <th>0</th>\n",
       "      <td>Belgium</td>\n",
       "      <td>11351727</td>\n",
       "      <td>11413058</td>\n",
       "      <td>119690</td>\n",
       "      <td>109666</td>\n",
       "    </tr>\n",
       "    <tr>\n",
       "      <th>1</th>\n",
       "      <td>Bulgaria</td>\n",
       "      <td>7101859</td>\n",
       "      <td>7050034</td>\n",
       "      <td>63955</td>\n",
       "      <td>109791</td>\n",
       "    </tr>\n",
       "    <tr>\n",
       "      <th>2</th>\n",
       "      <td>Czechia</td>\n",
       "      <td>10578820</td>\n",
       "      <td>10610055</td>\n",
       "      <td>114405</td>\n",
       "      <td>111443</td>\n",
       "    </tr>\n",
       "    <tr>\n",
       "      <th>3</th>\n",
       "      <td>Denmark</td>\n",
       "      <td>5748769</td>\n",
       "      <td>5781190</td>\n",
       "      <td>61397</td>\n",
       "      <td>53261</td>\n",
       "    </tr>\n",
       "    <tr>\n",
       "      <th>4</th>\n",
       "      <td>Germany</td>\n",
       "      <td>82521653</td>\n",
       "      <td>82850000</td>\n",
       "      <td>785000</td>\n",
       "      <td>933000</td>\n",
       "    </tr>\n",
       "    <tr>\n",
       "      <th>5</th>\n",
       "      <td>Estonia</td>\n",
       "      <td>1315634</td>\n",
       "      <td>1319133</td>\n",
       "      <td>13784</td>\n",
       "      <td>15543</td>\n",
       "    </tr>\n",
       "    <tr>\n",
       "      <th>6</th>\n",
       "      <td>Ireland</td>\n",
       "      <td>4784383</td>\n",
       "      <td>4838259</td>\n",
       "      <td>62084</td>\n",
       "      <td>30324</td>\n",
       "    </tr>\n",
       "    <tr>\n",
       "      <th>7</th>\n",
       "      <td>Greece</td>\n",
       "      <td>10768193</td>\n",
       "      <td>10738868</td>\n",
       "      <td>88523</td>\n",
       "      <td>124530</td>\n",
       "    </tr>\n",
       "    <tr>\n",
       "      <th>8</th>\n",
       "      <td>Spain</td>\n",
       "      <td>46527039</td>\n",
       "      <td>46659302</td>\n",
       "      <td>390024</td>\n",
       "      <td>421269</td>\n",
       "    </tr>\n",
       "    <tr>\n",
       "      <th>9</th>\n",
       "      <td>France</td>\n",
       "      <td>66989083</td>\n",
       "      <td>67221943</td>\n",
       "      <td>767691</td>\n",
       "      <td>603141</td>\n",
       "    </tr>\n",
       "    <tr>\n",
       "      <th>10</th>\n",
       "      <td>Croatia</td>\n",
       "      <td>4154212</td>\n",
       "      <td>4105493</td>\n",
       "      <td>36556</td>\n",
       "      <td>53477</td>\n",
       "    </tr>\n",
       "    <tr>\n",
       "      <th>11</th>\n",
       "      <td>Italy</td>\n",
       "      <td>60589445</td>\n",
       "      <td>60483973</td>\n",
       "      <td>458151</td>\n",
       "      <td>649061</td>\n",
       "    </tr>\n",
       "    <tr>\n",
       "      <th>12</th>\n",
       "      <td>Cyprus</td>\n",
       "      <td>854802</td>\n",
       "      <td>864236</td>\n",
       "      <td>9229</td>\n",
       "      <td>5997</td>\n",
       "    </tr>\n",
       "    <tr>\n",
       "      <th>13</th>\n",
       "      <td>Latvia</td>\n",
       "      <td>1950116</td>\n",
       "      <td>1934379</td>\n",
       "      <td>20828</td>\n",
       "      <td>28757</td>\n",
       "    </tr>\n",
       "    <tr>\n",
       "      <th>14</th>\n",
       "      <td>Lithuania</td>\n",
       "      <td>2847904</td>\n",
       "      <td>2808901</td>\n",
       "      <td>28696</td>\n",
       "      <td>40142</td>\n",
       "    </tr>\n",
       "    <tr>\n",
       "      <th>15</th>\n",
       "      <td>Luxembourg</td>\n",
       "      <td>590667</td>\n",
       "      <td>602005</td>\n",
       "      <td>6174</td>\n",
       "      <td>4263</td>\n",
       "    </tr>\n",
       "    <tr>\n",
       "      <th>16</th>\n",
       "      <td>Hungary</td>\n",
       "      <td>9797561</td>\n",
       "      <td>9778371</td>\n",
       "      <td>94646</td>\n",
       "      <td>131877</td>\n",
       "    </tr>\n",
       "    <tr>\n",
       "      <th>17</th>\n",
       "      <td>Malta</td>\n",
       "      <td>460297</td>\n",
       "      <td>475701</td>\n",
       "      <td>4319</td>\n",
       "      <td>3571</td>\n",
       "    </tr>\n",
       "    <tr>\n",
       "      <th>18</th>\n",
       "      <td>Netherlands</td>\n",
       "      <td>17081507</td>\n",
       "      <td>17181084</td>\n",
       "      <td>169200</td>\n",
       "      <td>150027</td>\n",
       "    </tr>\n",
       "    <tr>\n",
       "      <th>19</th>\n",
       "      <td>Austria</td>\n",
       "      <td>8772865</td>\n",
       "      <td>8822267</td>\n",
       "      <td>87633</td>\n",
       "      <td>83270</td>\n",
       "    </tr>\n",
       "    <tr>\n",
       "      <th>20</th>\n",
       "      <td>Poland</td>\n",
       "      <td>37972964</td>\n",
       "      <td>37976687</td>\n",
       "      <td>401982</td>\n",
       "      <td>402852</td>\n",
       "    </tr>\n",
       "    <tr>\n",
       "      <th>21</th>\n",
       "      <td>Portugal</td>\n",
       "      <td>10309573</td>\n",
       "      <td>10291027</td>\n",
       "      <td>86154</td>\n",
       "      <td>109586</td>\n",
       "    </tr>\n",
       "    <tr>\n",
       "      <th>22</th>\n",
       "      <td>Romania</td>\n",
       "      <td>19644350</td>\n",
       "      <td>19523621</td>\n",
       "      <td>189474</td>\n",
       "      <td>260599</td>\n",
       "    </tr>\n",
       "    <tr>\n",
       "      <th>23</th>\n",
       "      <td>Slovenia</td>\n",
       "      <td>2065895</td>\n",
       "      <td>2066880</td>\n",
       "      <td>20241</td>\n",
       "      <td>20509</td>\n",
       "    </tr>\n",
       "    <tr>\n",
       "      <th>24</th>\n",
       "      <td>Slovakia</td>\n",
       "      <td>5435343</td>\n",
       "      <td>5443120</td>\n",
       "      <td>57969</td>\n",
       "      <td>53914</td>\n",
       "    </tr>\n",
       "    <tr>\n",
       "      <th>25</th>\n",
       "      <td>Finland</td>\n",
       "      <td>5503297</td>\n",
       "      <td>5513130</td>\n",
       "      <td>50321</td>\n",
       "      <td>53722</td>\n",
       "    </tr>\n",
       "    <tr>\n",
       "      <th>26</th>\n",
       "      <td>Sweden</td>\n",
       "      <td>9995153</td>\n",
       "      <td>10120242</td>\n",
       "      <td>115416</td>\n",
       "      <td>91972</td>\n",
       "    </tr>\n",
       "    <tr>\n",
       "      <th>27</th>\n",
       "      <td>United Kingdom</td>\n",
       "      <td>65808573</td>\n",
       "      <td>66238007</td>\n",
       "      <td>755043</td>\n",
       "      <td>607172</td>\n",
       "    </tr>\n",
       "  </tbody>\n",
       "</table>\n",
       "</div>"
      ],
      "text/plain": [
       "               geo     pop17     pop18  births  deaths\n",
       "0         Belgium   11351727  11413058  119690  109666\n",
       "1         Bulgaria   7101859   7050034   63955  109791\n",
       "2          Czechia  10578820  10610055  114405  111443\n",
       "3          Denmark   5748769   5781190   61397   53261\n",
       "4          Germany  82521653  82850000  785000  933000\n",
       "5         Estonia    1315634   1319133   13784   15543\n",
       "6          Ireland   4784383   4838259   62084   30324\n",
       "7           Greece  10768193  10738868   88523  124530\n",
       "8            Spain  46527039  46659302  390024  421269\n",
       "9          France   66989083  67221943  767691  603141\n",
       "10         Croatia   4154212   4105493   36556   53477\n",
       "11           Italy  60589445  60483973  458151  649061\n",
       "12          Cyprus    854802    864236    9229    5997\n",
       "13          Latvia   1950116   1934379   20828   28757\n",
       "14       Lithuania   2847904   2808901   28696   40142\n",
       "15      Luxembourg    590667    602005    6174    4263\n",
       "16         Hungary   9797561   9778371   94646  131877\n",
       "17           Malta    460297    475701    4319    3571\n",
       "18     Netherlands  17081507  17181084  169200  150027\n",
       "19         Austria   8772865   8822267   87633   83270\n",
       "20          Poland  37972964  37976687  401982  402852\n",
       "21        Portugal  10309573  10291027   86154  109586\n",
       "22         Romania  19644350  19523621  189474  260599\n",
       "23        Slovenia   2065895   2066880   20241   20509\n",
       "24        Slovakia   5435343   5443120   57969   53914\n",
       "25         Finland   5503297   5513130   50321   53722\n",
       "26          Sweden   9995153  10120242  115416   91972\n",
       "27  United Kingdom  65808573  66238007  755043  607172"
      ]
     },
     "execution_count": 87,
     "metadata": {},
     "output_type": "execute_result"
    }
   ],
   "source": [
    "df"
   ]
  },
  {
   "cell_type": "markdown",
   "metadata": {},
   "source": [
    "We look at the dataframe as it is, and use the 'head()' command which will only show the first 5 lines of data:"
   ]
  },
  {
   "cell_type": "code",
   "execution_count": 88,
   "metadata": {},
   "outputs": [
    {
     "data": {
      "text/html": [
       "<div>\n",
       "<style scoped>\n",
       "    .dataframe tbody tr th:only-of-type {\n",
       "        vertical-align: middle;\n",
       "    }\n",
       "\n",
       "    .dataframe tbody tr th {\n",
       "        vertical-align: top;\n",
       "    }\n",
       "\n",
       "    .dataframe thead th {\n",
       "        text-align: right;\n",
       "    }\n",
       "</style>\n",
       "<table border=\"1\" class=\"dataframe\">\n",
       "  <thead>\n",
       "    <tr style=\"text-align: right;\">\n",
       "      <th></th>\n",
       "      <th>geo</th>\n",
       "      <th>pop17</th>\n",
       "      <th>pop18</th>\n",
       "      <th>births</th>\n",
       "      <th>deaths</th>\n",
       "    </tr>\n",
       "  </thead>\n",
       "  <tbody>\n",
       "    <tr>\n",
       "      <th>0</th>\n",
       "      <td>Belgium</td>\n",
       "      <td>11351727</td>\n",
       "      <td>11413058</td>\n",
       "      <td>119690</td>\n",
       "      <td>109666</td>\n",
       "    </tr>\n",
       "    <tr>\n",
       "      <th>1</th>\n",
       "      <td>Bulgaria</td>\n",
       "      <td>7101859</td>\n",
       "      <td>7050034</td>\n",
       "      <td>63955</td>\n",
       "      <td>109791</td>\n",
       "    </tr>\n",
       "    <tr>\n",
       "      <th>2</th>\n",
       "      <td>Czechia</td>\n",
       "      <td>10578820</td>\n",
       "      <td>10610055</td>\n",
       "      <td>114405</td>\n",
       "      <td>111443</td>\n",
       "    </tr>\n",
       "    <tr>\n",
       "      <th>3</th>\n",
       "      <td>Denmark</td>\n",
       "      <td>5748769</td>\n",
       "      <td>5781190</td>\n",
       "      <td>61397</td>\n",
       "      <td>53261</td>\n",
       "    </tr>\n",
       "    <tr>\n",
       "      <th>4</th>\n",
       "      <td>Germany</td>\n",
       "      <td>82521653</td>\n",
       "      <td>82850000</td>\n",
       "      <td>785000</td>\n",
       "      <td>933000</td>\n",
       "    </tr>\n",
       "  </tbody>\n",
       "</table>\n",
       "</div>"
      ],
      "text/plain": [
       "        geo     pop17     pop18  births  deaths\n",
       "0  Belgium   11351727  11413058  119690  109666\n",
       "1  Bulgaria   7101859   7050034   63955  109791\n",
       "2   Czechia  10578820  10610055  114405  111443\n",
       "3   Denmark   5748769   5781190   61397   53261\n",
       "4   Germany  82521653  82850000  785000  933000"
      ]
     },
     "execution_count": 88,
     "metadata": {},
     "output_type": "execute_result"
    }
   ],
   "source": [
    "df.head()"
   ]
  },
  {
   "cell_type": "markdown",
   "metadata": {},
   "source": [
    "The meaning of the colums, we have to get from metada information. In this case, we have the following description of the data:\n",
    "\n",
    "- **geo**: the country in question\n",
    "- **pop17**: the population count of that country as of 1 January 2017\n",
    "- **pop18**: the population count of that country as of 1 January 2018\n",
    "- **births**: the number of (live) births in the country during the year 2017\n",
    "- **deaths**: the number of deaths in that country during the year 2017\n",
    "\n",
    "The data is provided for all of the 28 European Union members (as of 2017)."
   ]
  },
  {
   "cell_type": "markdown",
   "metadata": {},
   "source": [
    "We want to use the country as the country name as the index. We can achieve this either with"
   ]
  },
  {
   "cell_type": "code",
   "execution_count": 89,
   "metadata": {
    "collapsed": true
   },
   "outputs": [],
   "source": [
    "df2 = df.set_index('geo')"
   ]
  },
  {
   "cell_type": "code",
   "execution_count": 90,
   "metadata": {},
   "outputs": [
    {
     "data": {
      "text/html": [
       "<div>\n",
       "<style scoped>\n",
       "    .dataframe tbody tr th:only-of-type {\n",
       "        vertical-align: middle;\n",
       "    }\n",
       "\n",
       "    .dataframe tbody tr th {\n",
       "        vertical-align: top;\n",
       "    }\n",
       "\n",
       "    .dataframe thead th {\n",
       "        text-align: right;\n",
       "    }\n",
       "</style>\n",
       "<table border=\"1\" class=\"dataframe\">\n",
       "  <thead>\n",
       "    <tr style=\"text-align: right;\">\n",
       "      <th></th>\n",
       "      <th>pop17</th>\n",
       "      <th>pop18</th>\n",
       "      <th>births</th>\n",
       "      <th>deaths</th>\n",
       "    </tr>\n",
       "    <tr>\n",
       "      <th>geo</th>\n",
       "      <th></th>\n",
       "      <th></th>\n",
       "      <th></th>\n",
       "      <th></th>\n",
       "    </tr>\n",
       "  </thead>\n",
       "  <tbody>\n",
       "    <tr>\n",
       "      <th>Belgium</th>\n",
       "      <td>11351727</td>\n",
       "      <td>11413058</td>\n",
       "      <td>119690</td>\n",
       "      <td>109666</td>\n",
       "    </tr>\n",
       "    <tr>\n",
       "      <th>Bulgaria</th>\n",
       "      <td>7101859</td>\n",
       "      <td>7050034</td>\n",
       "      <td>63955</td>\n",
       "      <td>109791</td>\n",
       "    </tr>\n",
       "    <tr>\n",
       "      <th>Czechia</th>\n",
       "      <td>10578820</td>\n",
       "      <td>10610055</td>\n",
       "      <td>114405</td>\n",
       "      <td>111443</td>\n",
       "    </tr>\n",
       "    <tr>\n",
       "      <th>Denmark</th>\n",
       "      <td>5748769</td>\n",
       "      <td>5781190</td>\n",
       "      <td>61397</td>\n",
       "      <td>53261</td>\n",
       "    </tr>\n",
       "    <tr>\n",
       "      <th>Germany</th>\n",
       "      <td>82521653</td>\n",
       "      <td>82850000</td>\n",
       "      <td>785000</td>\n",
       "      <td>933000</td>\n",
       "    </tr>\n",
       "  </tbody>\n",
       "</table>\n",
       "</div>"
      ],
      "text/plain": [
       "             pop17     pop18  births  deaths\n",
       "geo                                         \n",
       "Belgium   11351727  11413058  119690  109666\n",
       "Bulgaria   7101859   7050034   63955  109791\n",
       "Czechia   10578820  10610055  114405  111443\n",
       "Denmark    5748769   5781190   61397   53261\n",
       "Germany   82521653  82850000  785000  933000"
      ]
     },
     "execution_count": 90,
     "metadata": {},
     "output_type": "execute_result"
    }
   ],
   "source": [
    "df2.head()"
   ]
  },
  {
   "cell_type": "markdown",
   "metadata": {},
   "source": [
    "Note that we cannot change the index in a given DataFrame, so the `set_index()` method returns a new DataFrame. (This happens for many operations.)\n",
    "\n",
    "An as alternative, we can also modify the import statement to already indicate which column we want to use as the index:"
   ]
  },
  {
   "cell_type": "code",
   "execution_count": 91,
   "metadata": {
    "collapsed": true
   },
   "outputs": [],
   "source": [
    "df = pd.read_csv('eu-pop-2017.csv', index_col=\"geo\")"
   ]
  },
  {
   "cell_type": "code",
   "execution_count": 92,
   "metadata": {},
   "outputs": [
    {
     "data": {
      "text/html": [
       "<div>\n",
       "<style scoped>\n",
       "    .dataframe tbody tr th:only-of-type {\n",
       "        vertical-align: middle;\n",
       "    }\n",
       "\n",
       "    .dataframe tbody tr th {\n",
       "        vertical-align: top;\n",
       "    }\n",
       "\n",
       "    .dataframe thead th {\n",
       "        text-align: right;\n",
       "    }\n",
       "</style>\n",
       "<table border=\"1\" class=\"dataframe\">\n",
       "  <thead>\n",
       "    <tr style=\"text-align: right;\">\n",
       "      <th></th>\n",
       "      <th>pop17</th>\n",
       "      <th>pop18</th>\n",
       "      <th>births</th>\n",
       "      <th>deaths</th>\n",
       "    </tr>\n",
       "    <tr>\n",
       "      <th>geo</th>\n",
       "      <th></th>\n",
       "      <th></th>\n",
       "      <th></th>\n",
       "      <th></th>\n",
       "    </tr>\n",
       "  </thead>\n",
       "  <tbody>\n",
       "    <tr>\n",
       "      <th>Belgium</th>\n",
       "      <td>11351727</td>\n",
       "      <td>11413058</td>\n",
       "      <td>119690</td>\n",
       "      <td>109666</td>\n",
       "    </tr>\n",
       "    <tr>\n",
       "      <th>Bulgaria</th>\n",
       "      <td>7101859</td>\n",
       "      <td>7050034</td>\n",
       "      <td>63955</td>\n",
       "      <td>109791</td>\n",
       "    </tr>\n",
       "    <tr>\n",
       "      <th>Czechia</th>\n",
       "      <td>10578820</td>\n",
       "      <td>10610055</td>\n",
       "      <td>114405</td>\n",
       "      <td>111443</td>\n",
       "    </tr>\n",
       "    <tr>\n",
       "      <th>Denmark</th>\n",
       "      <td>5748769</td>\n",
       "      <td>5781190</td>\n",
       "      <td>61397</td>\n",
       "      <td>53261</td>\n",
       "    </tr>\n",
       "    <tr>\n",
       "      <th>Germany</th>\n",
       "      <td>82521653</td>\n",
       "      <td>82850000</td>\n",
       "      <td>785000</td>\n",
       "      <td>933000</td>\n",
       "    </tr>\n",
       "  </tbody>\n",
       "</table>\n",
       "</div>"
      ],
      "text/plain": [
       "             pop17     pop18  births  deaths\n",
       "geo                                         \n",
       "Belgium   11351727  11413058  119690  109666\n",
       "Bulgaria   7101859   7050034   63955  109791\n",
       "Czechia   10578820  10610055  114405  111443\n",
       "Denmark    5748769   5781190   61397   53261\n",
       "Germany   82521653  82850000  785000  933000"
      ]
     },
     "execution_count": 92,
     "metadata": {},
     "output_type": "execute_result"
    }
   ],
   "source": [
    "df.head()"
   ]
  },
  {
   "cell_type": "markdown",
   "metadata": {},
   "source": [
    "We explore the data by plotting some of it:"
   ]
  },
  {
   "cell_type": "code",
   "execution_count": 93,
   "metadata": {},
   "outputs": [
    {
     "data": {
      "text/plain": [
       "<matplotlib.axes._subplots.AxesSubplot at 0x11f397518>"
      ]
     },
     "execution_count": 93,
     "metadata": {},
     "output_type": "execute_result"
    },
    {
     "data": {
      "image/png": "[encoded data removed]",
      "text/plain": [
       "<Figure size 432x288 with 1 Axes>"
      ]
     },
     "metadata": {},
     "output_type": "display_data"
    }
   ],
   "source": [
    "df.plot(kind='bar', y='pop17')"
   ]
  },
  {
   "cell_type": "markdown",
   "metadata": {},
   "source": [
    "The above shows the population as of 1 Jan 2017. \n",
    "\n",
    "We'll try to improve this in two ways:\n",
    "\n",
    "- we want to count population in millions. We can do this by dividing all the data by $10^6$.\n",
    "\n",
    "- it would be interesting to sort the countries in order of size for this plot.\n",
    "\n"
   ]
  },
  {
   "cell_type": "code",
   "execution_count": 94,
   "metadata": {
    "collapsed": true
   },
   "outputs": [],
   "source": [
    "df_millions = df / 1e6"
   ]
  },
  {
   "cell_type": "code",
   "execution_count": 95,
   "metadata": {},
   "outputs": [
    {
     "data": {
      "text/plain": [
       "<matplotlib.axes._subplots.AxesSubplot at 0x11f393a20>"
      ]
     },
     "execution_count": 95,
     "metadata": {},
     "output_type": "execute_result"
    },
    {
     "data": {
      "image/png": "[encoded data removed]",
      "text/plain": [
       "<Figure size 432x288 with 1 Axes>"
      ]
     },
     "metadata": {},
     "output_type": "display_data"
    }
   ],
   "source": [
    "df_millions['pop17'].sort_values(ascending=False).plot(kind='bar')"
   ]
  },
  {
   "cell_type": "markdown",
   "metadata": {},
   "source": [
    "The example above selects one column from the data frame (`['pop17'`) and that returns a `Series` object. Then we sort this `Series` object using `sort_values()` according to the values (that's the number of poeple in each country), then we plot this."
   ]
  },
  {
   "cell_type": "markdown",
   "metadata": {},
   "source": [
    "Alternatively, we could also create a plot for the whole data frame, but say that the `pop17` is the column for sorting, and that we want to plot only the column with `pop17`:"
   ]
  },
  {
   "cell_type": "code",
   "execution_count": 96,
   "metadata": {},
   "outputs": [
    {
     "data": {
      "text/plain": [
       "<matplotlib.axes._subplots.AxesSubplot at 0x11f3888d0>"
      ]
     },
     "execution_count": 96,
     "metadata": {},
     "output_type": "execute_result"
    },
    {
     "data": {
      "image/png": "[encoded data removed]",
      "text/plain": [
       "<Figure size 432x288 with 1 Axes>"
      ]
     },
     "metadata": {},
     "output_type": "display_data"
    }
   ],
   "source": [
    "df_millions.sort_values(by='pop17').plot(kind='bar', y='pop17')"
   ]
  },
  {
   "cell_type": "markdown",
   "metadata": {},
   "source": [
    "We can also plot more than one column at the same time:"
   ]
  },
  {
   "cell_type": "code",
   "execution_count": 97,
   "metadata": {},
   "outputs": [
    {
     "data": {
      "image/png": "[encoded data removed]",
      "text/plain": [
       "<Figure size 432x288 with 1 Axes>"
      ]
     },
     "metadata": {},
     "output_type": "display_data"
    }
   ],
   "source": [
    "ax = df_millions.sort_values(by='pop17').plot(kind='bar', y=['pop17', 'pop18'])"
   ]
  },
  {
   "cell_type": "markdown",
   "metadata": {},
   "source": [
    "We can also fine tune the plot with the usual `matplotlib` commands:"
   ]
  },
  {
   "cell_type": "code",
   "execution_count": 98,
   "metadata": {},
   "outputs": [
    {
     "data": {
      "image/png": "[encoded data removed]",
      "text/plain": [
       "<Figure size 720x288 with 1 Axes>"
      ]
     },
     "metadata": {},
     "output_type": "display_data"
    }
   ],
   "source": [
    "ax = df_millions.sort_values(by='pop17').plot(kind='bar', y='pop17', figsize=(10, 4))\n",
    "ax.set_ylabel(\"population 2017 [in millions]\")\n",
    "ax.grid()\n",
    "ax.set_xlabel(None);  # get rid of default label for x-axis ('geo')"
   ]
  },
  {
   "cell_type": "markdown",
   "metadata": {},
   "source": [
    "Based on the number of births and deaths, we can compute change in population for each country for 2017. This is sometimes called the \"natural-change\":"
   ]
  },
  {
   "cell_type": "code",
   "execution_count": 99,
   "metadata": {
    "collapsed": true
   },
   "outputs": [],
   "source": [
    "df['natural-change'] = df['births'] - df['deaths']"
   ]
  },
  {
   "cell_type": "code",
   "execution_count": 100,
   "metadata": {},
   "outputs": [
    {
     "data": {
      "text/plain": [
       "geo\n",
       "Italy            -190910\n",
       "Germany          -148000\n",
       "Romania           -71125\n",
       "Bulgaria          -45836\n",
       "Hungary           -37231\n",
       "Greece            -36007\n",
       "Spain             -31245\n",
       "Portugal          -23432\n",
       "Croatia           -16921\n",
       "Lithuania         -11446\n",
       "Latvia             -7929\n",
       "Finland            -3401\n",
       "Estonia            -1759\n",
       "Poland              -870\n",
       "Slovenia            -268\n",
       "Malta                748\n",
       "Luxembourg          1911\n",
       "Czechia             2962\n",
       "Cyprus              3232\n",
       "Slovakia            4055\n",
       "Austria             4363\n",
       "Denmark             8136\n",
       "Belgium            10024\n",
       "Netherlands        19173\n",
       "Sweden             23444\n",
       "Ireland            31760\n",
       "United Kingdom    147871\n",
       "France            164550\n",
       "Name: natural-change, dtype: int64"
      ]
     },
     "execution_count": 100,
     "metadata": {},
     "output_type": "execute_result"
    }
   ],
   "source": [
    "df['natural-change'].sort_values()"
   ]
  },
  {
   "cell_type": "markdown",
   "metadata": {},
   "source": [
    "From this, we can see that the population change due to births and deaths in Italy and Germany is decreasing most in absolute terms."
   ]
  },
  {
   "cell_type": "markdown",
   "metadata": {},
   "source": [
    "To relate this to the overall size of the population, one often uses rates per year and per 1000 people in the country, such as the birth rate per 1000 inhabitants [1] (and death rate accordingly):\n",
    "\n",
    "[1] https://en.wikipedia.org/wiki/Birth_rate"
   ]
  },
  {
   "cell_type": "code",
   "execution_count": 101,
   "metadata": {
    "collapsed": true
   },
   "outputs": [],
   "source": [
    "df['birth-rate'] = df['births'] / df['pop17'] * 1000\n",
    "df['death-rate'] = df['deaths'] / df['pop17'] * 1000\n",
    "df['natural-change-rate'] = df['natural-change'] / df['pop17'] * 1000"
   ]
  },
  {
   "cell_type": "code",
   "execution_count": 102,
   "metadata": {},
   "outputs": [
    {
     "data": {
      "text/html": [
       "<div>\n",
       "<style scoped>\n",
       "    .dataframe tbody tr th:only-of-type {\n",
       "        vertical-align: middle;\n",
       "    }\n",
       "\n",
       "    .dataframe tbody tr th {\n",
       "        vertical-align: top;\n",
       "    }\n",
       "\n",
       "    .dataframe thead th {\n",
       "        text-align: right;\n",
       "    }\n",
       "</style>\n",
       "<table border=\"1\" class=\"dataframe\">\n",
       "  <thead>\n",
       "    <tr style=\"text-align: right;\">\n",
       "      <th></th>\n",
       "      <th>pop17</th>\n",
       "      <th>pop18</th>\n",
       "      <th>births</th>\n",
       "      <th>deaths</th>\n",
       "      <th>natural-change</th>\n",
       "      <th>birth-rate</th>\n",
       "      <th>death-rate</th>\n",
       "      <th>natural-change-rate</th>\n",
       "    </tr>\n",
       "    <tr>\n",
       "      <th>geo</th>\n",
       "      <th></th>\n",
       "      <th></th>\n",
       "      <th></th>\n",
       "      <th></th>\n",
       "      <th></th>\n",
       "      <th></th>\n",
       "      <th></th>\n",
       "      <th></th>\n",
       "    </tr>\n",
       "  </thead>\n",
       "  <tbody>\n",
       "    <tr>\n",
       "      <th>Belgium</th>\n",
       "      <td>11351727</td>\n",
       "      <td>11413058</td>\n",
       "      <td>119690</td>\n",
       "      <td>109666</td>\n",
       "      <td>10024</td>\n",
       "      <td>10.543770</td>\n",
       "      <td>9.660733</td>\n",
       "      <td>0.883037</td>\n",
       "    </tr>\n",
       "    <tr>\n",
       "      <th>Bulgaria</th>\n",
       "      <td>7101859</td>\n",
       "      <td>7050034</td>\n",
       "      <td>63955</td>\n",
       "      <td>109791</td>\n",
       "      <td>-45836</td>\n",
       "      <td>9.005389</td>\n",
       "      <td>15.459473</td>\n",
       "      <td>-6.454085</td>\n",
       "    </tr>\n",
       "    <tr>\n",
       "      <th>Czechia</th>\n",
       "      <td>10578820</td>\n",
       "      <td>10610055</td>\n",
       "      <td>114405</td>\n",
       "      <td>111443</td>\n",
       "      <td>2962</td>\n",
       "      <td>10.814533</td>\n",
       "      <td>10.534540</td>\n",
       "      <td>0.279993</td>\n",
       "    </tr>\n",
       "    <tr>\n",
       "      <th>Denmark</th>\n",
       "      <td>5748769</td>\n",
       "      <td>5781190</td>\n",
       "      <td>61397</td>\n",
       "      <td>53261</td>\n",
       "      <td>8136</td>\n",
       "      <td>10.680026</td>\n",
       "      <td>9.264766</td>\n",
       "      <td>1.415260</td>\n",
       "    </tr>\n",
       "    <tr>\n",
       "      <th>Germany</th>\n",
       "      <td>82521653</td>\n",
       "      <td>82850000</td>\n",
       "      <td>785000</td>\n",
       "      <td>933000</td>\n",
       "      <td>-148000</td>\n",
       "      <td>9.512655</td>\n",
       "      <td>11.306123</td>\n",
       "      <td>-1.793469</td>\n",
       "    </tr>\n",
       "  </tbody>\n",
       "</table>\n",
       "</div>"
      ],
      "text/plain": [
       "             pop17     pop18  births  deaths  natural-change  birth-rate  \\\n",
       "geo                                                                        \n",
       "Belgium   11351727  11413058  119690  109666           10024   10.543770   \n",
       "Bulgaria   7101859   7050034   63955  109791          -45836    9.005389   \n",
       "Czechia   10578820  10610055  114405  111443            2962   10.814533   \n",
       "Denmark    5748769   5781190   61397   53261            8136   10.680026   \n",
       "Germany   82521653  82850000  785000  933000         -148000    9.512655   \n",
       "\n",
       "          death-rate  natural-change-rate  \n",
       "geo                                        \n",
       "Belgium     9.660733             0.883037  \n",
       "Bulgaria   15.459473            -6.454085  \n",
       "Czechia    10.534540             0.279993  \n",
       "Denmark     9.264766             1.415260  \n",
       "Germany    11.306123            -1.793469  "
      ]
     },
     "execution_count": 102,
     "metadata": {},
     "output_type": "execute_result"
    }
   ],
   "source": [
    "df.head()"
   ]
  },
  {
   "cell_type": "markdown",
   "metadata": {},
   "source": [
    "We can now look at the natural rate of change of population for each country, which is normalised by the population in that country."
   ]
  },
  {
   "cell_type": "code",
   "execution_count": 103,
   "metadata": {},
   "outputs": [
    {
     "data": {
      "text/plain": [
       "Text(0.5,1,'Natural change due to births and deaths per 1000 in 2017')"
      ]
     },
     "execution_count": 103,
     "metadata": {},
     "output_type": "execute_result"
    },
    {
     "data": {
      "image/png": "[encoded data removed]",
      "text/plain": [
       "<Figure size 720x288 with 1 Axes>"
      ]
     },
     "metadata": {},
     "output_type": "display_data"
    }
   ],
   "source": [
    "ax = df.sort_values(by='natural-change-rate').plot(kind='bar', y='natural-change-rate', figsize=(10, 4))\n",
    "ax.set_title(\"Natural change due to births and deaths per 1000 in 2017\")"
   ]
  },
  {
   "cell_type": "markdown",
   "metadata": {},
   "source": [
    "We can show the data together with the underlying birth and death rate data:"
   ]
  },
  {
   "cell_type": "code",
   "execution_count": 104,
   "metadata": {},
   "outputs": [
    {
     "data": {
      "text/plain": [
       "<matplotlib.axes._subplots.AxesSubplot at 0x11fc32748>"
      ]
     },
     "execution_count": 104,
     "metadata": {},
     "output_type": "execute_result"
    },
    {
     "data": {
      "image/png": "[encoded data removed]",
      "text/plain": [
       "<Figure size 864x432 with 2 Axes>"
      ]
     },
     "metadata": {},
     "output_type": "display_data"
    }
   ],
   "source": [
    "tmp = df.sort_values(by='natural-change-rate')\n",
    "\n",
    "fig, axes = plt.subplots(2, 1, figsize=(12, 6))\n",
    "\n",
    "tmp.plot(kind='bar', y=['natural-change-rate'], sharex=True, ax=axes[0])\n",
    "axes[0].set_title(\"Population change per 1000 in 2017\")\n",
    "tmp.plot(kind='bar', y=['death-rate', 'birth-rate'], sharex=True, ax=axes[1])\n"
   ]
  },
  {
   "cell_type": "markdown",
   "metadata": {},
   "source": [
    "We haven't used the information we have about the population on 1 January 2018 yet. \n",
    "\n",
    "Let's first look at the absolute changes in the population based on the (census?) data from 1 Jan 2017 and 1 Jan 2018:\n"
   ]
  },
  {
   "cell_type": "code",
   "execution_count": 105,
   "metadata": {
    "collapsed": true
   },
   "outputs": [],
   "source": [
    "df['change'] = df['pop18'] - df['pop17']"
   ]
  },
  {
   "cell_type": "code",
   "execution_count": 106,
   "metadata": {},
   "outputs": [
    {
     "data": {
      "image/png": "[encoded data removed]",
      "text/plain": [
       "<Figure size 432x288 with 1 Axes>"
      ]
     },
     "metadata": {},
     "output_type": "display_data"
    }
   ],
   "source": [
    "ax = df.sort_values(by='change').plot(y='change', kind='bar')\n",
    "ax.set_title(\"Total change in population per country in 2017\");"
   ]
  },
  {
   "cell_type": "markdown",
   "metadata": {},
   "source": [
    "With that information, we can estimate migration. (It is important to note that this estimated number will also absorb all inaccuracies or changes of the data gathering method, in the original data described as \"statistical adjustment\".)"
   ]
  },
  {
   "cell_type": "code",
   "execution_count": 107,
   "metadata": {
    "collapsed": true
   },
   "outputs": [],
   "source": [
    "df['migration'] = df['change'] - df['natural-change']"
   ]
  },
  {
   "cell_type": "code",
   "execution_count": 108,
   "metadata": {},
   "outputs": [
    {
     "data": {
      "text/html": [
       "<div>\n",
       "<style scoped>\n",
       "    .dataframe tbody tr th:only-of-type {\n",
       "        vertical-align: middle;\n",
       "    }\n",
       "\n",
       "    .dataframe tbody tr th {\n",
       "        vertical-align: top;\n",
       "    }\n",
       "\n",
       "    .dataframe thead th {\n",
       "        text-align: right;\n",
       "    }\n",
       "</style>\n",
       "<table border=\"1\" class=\"dataframe\">\n",
       "  <thead>\n",
       "    <tr style=\"text-align: right;\">\n",
       "      <th></th>\n",
       "      <th>pop17</th>\n",
       "      <th>pop18</th>\n",
       "      <th>births</th>\n",
       "      <th>deaths</th>\n",
       "      <th>natural-change</th>\n",
       "      <th>birth-rate</th>\n",
       "      <th>death-rate</th>\n",
       "      <th>natural-change-rate</th>\n",
       "      <th>change</th>\n",
       "      <th>migration</th>\n",
       "    </tr>\n",
       "    <tr>\n",
       "      <th>geo</th>\n",
       "      <th></th>\n",
       "      <th></th>\n",
       "      <th></th>\n",
       "      <th></th>\n",
       "      <th></th>\n",
       "      <th></th>\n",
       "      <th></th>\n",
       "      <th></th>\n",
       "      <th></th>\n",
       "      <th></th>\n",
       "    </tr>\n",
       "  </thead>\n",
       "  <tbody>\n",
       "    <tr>\n",
       "      <th>Belgium</th>\n",
       "      <td>11351727</td>\n",
       "      <td>11413058</td>\n",
       "      <td>119690</td>\n",
       "      <td>109666</td>\n",
       "      <td>10024</td>\n",
       "      <td>10.543770</td>\n",
       "      <td>9.660733</td>\n",
       "      <td>0.883037</td>\n",
       "      <td>61331</td>\n",
       "      <td>51307</td>\n",
       "    </tr>\n",
       "    <tr>\n",
       "      <th>Bulgaria</th>\n",
       "      <td>7101859</td>\n",
       "      <td>7050034</td>\n",
       "      <td>63955</td>\n",
       "      <td>109791</td>\n",
       "      <td>-45836</td>\n",
       "      <td>9.005389</td>\n",
       "      <td>15.459473</td>\n",
       "      <td>-6.454085</td>\n",
       "      <td>-51825</td>\n",
       "      <td>-5989</td>\n",
       "    </tr>\n",
       "    <tr>\n",
       "      <th>Czechia</th>\n",
       "      <td>10578820</td>\n",
       "      <td>10610055</td>\n",
       "      <td>114405</td>\n",
       "      <td>111443</td>\n",
       "      <td>2962</td>\n",
       "      <td>10.814533</td>\n",
       "      <td>10.534540</td>\n",
       "      <td>0.279993</td>\n",
       "      <td>31235</td>\n",
       "      <td>28273</td>\n",
       "    </tr>\n",
       "    <tr>\n",
       "      <th>Denmark</th>\n",
       "      <td>5748769</td>\n",
       "      <td>5781190</td>\n",
       "      <td>61397</td>\n",
       "      <td>53261</td>\n",
       "      <td>8136</td>\n",
       "      <td>10.680026</td>\n",
       "      <td>9.264766</td>\n",
       "      <td>1.415260</td>\n",
       "      <td>32421</td>\n",
       "      <td>24285</td>\n",
       "    </tr>\n",
       "    <tr>\n",
       "      <th>Germany</th>\n",
       "      <td>82521653</td>\n",
       "      <td>82850000</td>\n",
       "      <td>785000</td>\n",
       "      <td>933000</td>\n",
       "      <td>-148000</td>\n",
       "      <td>9.512655</td>\n",
       "      <td>11.306123</td>\n",
       "      <td>-1.793469</td>\n",
       "      <td>328347</td>\n",
       "      <td>476347</td>\n",
       "    </tr>\n",
       "  </tbody>\n",
       "</table>\n",
       "</div>"
      ],
      "text/plain": [
       "             pop17     pop18  births  deaths  natural-change  birth-rate  \\\n",
       "geo                                                                        \n",
       "Belgium   11351727  11413058  119690  109666           10024   10.543770   \n",
       "Bulgaria   7101859   7050034   63955  109791          -45836    9.005389   \n",
       "Czechia   10578820  10610055  114405  111443            2962   10.814533   \n",
       "Denmark    5748769   5781190   61397   53261            8136   10.680026   \n",
       "Germany   82521653  82850000  785000  933000         -148000    9.512655   \n",
       "\n",
       "          death-rate  natural-change-rate  change  migration  \n",
       "geo                                                           \n",
       "Belgium     9.660733             0.883037   61331      51307  \n",
       "Bulgaria   15.459473            -6.454085  -51825      -5989  \n",
       "Czechia    10.534540             0.279993   31235      28273  \n",
       "Denmark     9.264766             1.415260   32421      24285  \n",
       "Germany    11.306123            -1.793469  328347     476347  "
      ]
     },
     "execution_count": 108,
     "metadata": {},
     "output_type": "execute_result"
    }
   ],
   "source": [
    "df.head()"
   ]
  },
  {
   "cell_type": "markdown",
   "metadata": {},
   "source": [
    "Let's plot the total change of the population per country in the top subfigure, and the contribution from natural changes and migration in the lower subfigure:"
   ]
  },
  {
   "cell_type": "code",
   "execution_count": 109,
   "metadata": {},
   "outputs": [
    {
     "data": {
      "image/png": "[encoded data removed]",
      "text/plain": [
       "<Figure size 864x432 with 2 Axes>"
      ]
     },
     "metadata": {},
     "output_type": "display_data"
    }
   ],
   "source": [
    "tmp = df.sort_values(by='change')\n",
    "fig, axes = plt.subplots(2, 1, figsize=(12, 6))\n",
    "\n",
    "tmp.plot(kind='bar', y=['change'], sharex=True, ax=axes[0])\n",
    "axes[0].set_title(\"Population changes in 2017\")\n",
    "axes[0].legend(['total change of population (migration + natural change due to deaths and births'])\n",
    "tmp.plot(kind='bar', y=['migration', 'natural-change'], sharex=True, ax=axes[1])\n",
    "axes[1].legend(['Migration', \"natural change due to deaths and births\"])\n",
    "axes[1].set_xlabel(None);"
   ]
  },
  {
   "cell_type": "markdown",
   "metadata": {},
   "source": [
    "## Further reading\n",
    "\n",
    "There is a lot more to say about Pandas. The following resources may be useful but there are countless others available:"
   ]
  },
  {
   "cell_type": "markdown",
   "metadata": {},
   "source": [
    "- Further reading on `[]`, `.loc[]` and `.iloc[]` from Ted Petrou as a [Jupyter Notebook]( https://github.com/tdpetrou/Learn-Pandas/blob/master/Learn-Pandas/Selecting%20Subsets/01%20Selecting%20Subsets%20with%20%5B%20%5D%2C%20.loc%20and%20.iloc.ipynb) and [blog entry](https://medium.com/dunder-data/selecting-subsets-of-data-in-pandas-6fcd0170be9c).\n",
    "\n",
    "- Jake VanderPlas: Python Data Science Handbook [online](https://jakevdp.github.io/PythonDataScienceHandbook/)"
   ]
  }
 ],
 "metadata": {
  "anaconda-cloud": {},
  "kernelspec": {
   "display_name": "Python 3",
   "language": "python",
   "name": "python3"
  },
  "language_info": {
   "codemirror_mode": {
    "name": "ipython",
    "version": 3
   },
   "file_extension": ".py",
   "mimetype": "text/x-python",
   "name": "python",
   "nbconvert_exporter": "python",
   "pygments_lexer": "ipython3",
   "version": "3.6.7"
  }
 },
 "nbformat": 4,
 "nbformat_minor": 2
}
