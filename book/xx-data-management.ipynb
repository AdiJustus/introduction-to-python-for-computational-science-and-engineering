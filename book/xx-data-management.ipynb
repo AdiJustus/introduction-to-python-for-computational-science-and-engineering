{
 "cells": [
  {
   "cell_type": "code",
   "execution_count": null,
   "metadata": {},
   "outputs": [],
   "source": [
    "import numpy as np\n",
    "import h5py"
   ]
  },
  {
   "cell_type": "code",
   "execution_count": null,
   "metadata": {},
   "outputs": [],
   "source": [
    "import json"
   ]
  },
  {
   "cell_type": "code",
   "execution_count": null,
   "metadata": {},
   "outputs": [],
   "source": [
    "class Simulation:\n",
    "    def __init__(self, name, atom_pos=None, field=None):\n",
    "        self.name = name\n",
    "        self.pos = atom_pos\n",
    "        self.field = field\n",
    "        \n",
    "    def __repr__(self):\n",
    "        s = f\"Simulation {self.name}: Memory requirements:\\n\"\n",
    "        s += f\"   Atoms: {self.pos.nbytes} bytes\\n\"\n",
    "        s += f\"   Field: {self.field.nbytes} bytes\"\n",
    "        return s\n",
    "\n",
    "\n",
    "# create example simulation object\n",
    "n = 10\n",
    "atom_pos = np.random.uniform(size=(n, 2))\n",
    "nx, ny = [1000] * 2\n",
    "field = np.zeros((nx, ny))\n",
    "\n",
    "sim = Simulation(\"Test1\", atom_pos, field)\n",
    "print(sim)\n",
    "       "
   ]
  },
  {
   "cell_type": "code",
   "execution_count": null,
   "metadata": {},
   "outputs": [],
   "source": [
    "class Simulation_h5(Simulation):\n",
    "    def filename(self):\n",
    "        return self.name + \".hdf5\"\n",
    "    \n",
    "    def save_h5(self, compression=None, compression_opts=None):\n",
    "        \"\"\"compression='gzip', see \n",
    "        https://docs.h5py.org/en/stable/high/dataset.html?highlight=compression#lossless-compression-filters\"\"\"\n",
    "        with h5py.File(self.filename(), 'w') as f:\n",
    "            dset = f.create_dataset(\"atom_positions\", self.pos.shape, dtype='float64',\n",
    "                                   compression=compression, compression_opts=compression_opts)\n",
    "            dset[()] = self.pos\n",
    "        \n",
    "            dset = f.create_dataset(\"field\", self.field.shape, dtype='float64',\n",
    "                                   compression=compression, compression_opts=compression_opts)\n",
    "            dset[()] = self.field\n",
    "        \n",
    "    def load_h5(self):\n",
    "        with h5py.File(self.filename(), 'r') as f:\n",
    "            self.pos = f[\"atom_positions\"][()]\n",
    "            self.field = f[\"field\"][()]\n",
    "        \n",
    "        \n",
    "\n",
    "\n",
    "\n",
    "# create example simulation object\n",
    "!rm -v Test-hdf5.hdf5\n",
    "n = 100\n",
    "atom_pos = np.random.uniform(size=(n, 2))\n",
    "nx, ny = [1000] * 2\n",
    "field = np.random.uniform(size=(nx, ny))\n",
    "field = np.arange(0, nx * ny, 1).reshape(nx, ny)\n",
    "\n",
    "\n",
    "sim = Simulation_h5(\"Test-hdf5\", atom_pos, field)\n",
    "print(sim)\n",
    "sim.save_h5(compression=\"gzip\", compression_opts=5)\n",
    "!ls -lh *hdf5\n",
    "\n",
    "     \n",
    "sim2 = Simulation_h5(\"Test-hdf5\")\n",
    "sim2.load_h5()\n",
    "assert np.allclose(sim2.pos, atom_pos)\n",
    "assert np.allclose(sim2.field, field)\n",
    "\n"
   ]
  },
  {
   "cell_type": "code",
   "execution_count": null,
   "metadata": {},
   "outputs": [],
   "source": [
    "h5file = h5py.File('Test-hdf5.hdf5', 'r') \n",
    "print(h5file['field'].compression)\n",
    "h5file.close()"
   ]
  },
  {
   "cell_type": "code",
   "execution_count": null,
   "metadata": {},
   "outputs": [],
   "source": [
    "!rm Test-hdf5.hdf5"
   ]
  },
  {
   "cell_type": "code",
   "execution_count": null,
   "metadata": {},
   "outputs": [],
   "source": [
    "class Simulation_text(Simulation):\n",
    "    \n",
    "    def save_text(self):\n",
    "        fname_pos = self.name + \"-pos.txt\"\n",
    "        np.savetxt(fname_pos, self.pos)\n",
    "        fname_field = self.name + \"-field.txt\"\n",
    "        np.savetxt(fname_field, self.field)\n",
    "    \n",
    "    def load_text(self):\n",
    "        fname_pos = self.name + \"-pos.txt\"\n",
    "        self.pos = np.loadtxt(fname_pos)\n",
    "        fname_field = self.name + \"-field.txt\"\n",
    "        self.field = np.loadtxt(fname_field)\n",
    "                    \n",
    "\n",
    "        \n",
    "\n",
    "\n",
    "\n",
    "# create example simulation object\n",
    "n = 10\n",
    "atom_pos = np.random.uniform(size=(n, 3))\n",
    "nx, ny = [1000] * 2\n",
    "field = np.zeros((nx, ny))\n",
    "\n",
    "sim = Simulation_text(\"Text\", atom_pos, field)\n",
    "print(sim)\n",
    "sim.save_text()\n",
    "!ls -lh *txt\n",
    "\n",
    "     \n",
    "sim2 = Simulation_text(\"Text\")\n",
    "sim2.load_text()\n",
    "np.allclose(sim2.pos, atom_pos)\n",
    "np.allclose(sim2.field, field)\n",
    "assert np.abs(sim2.field - field).max() == 0\n",
    "\n"
   ]
  },
  {
   "cell_type": "code",
   "execution_count": null,
   "metadata": {},
   "outputs": [],
   "source": [
    "f = h5py.File(f\"test2.hdf5\", 'w')\n",
    "dset = f.create_dataset(\"MyDataset\", (10,3), 'f')"
   ]
  },
  {
   "cell_type": "code",
   "execution_count": null,
   "metadata": {},
   "outputs": [],
   "source": [
    "f.close()\n",
    "#"
   ]
  },
  {
   "cell_type": "code",
   "execution_count": null,
   "metadata": {},
   "outputs": [],
   "source": [
    "import json"
   ]
  },
  {
   "cell_type": "code",
   "execution_count": null,
   "metadata": {},
   "outputs": [],
   "source": []
  },
  {
   "cell_type": "code",
   "execution_count": null,
   "metadata": {},
   "outputs": [],
   "source": [
    "f.close()"
   ]
  },
  {
   "cell_type": "code",
   "execution_count": null,
   "metadata": {},
   "outputs": [],
   "source": [
    "f = h5py.File(\"test2.hdf5\", 'r')\n"
   ]
  },
  {
   "cell_type": "code",
   "execution_count": null,
   "metadata": {},
   "outputs": [],
   "source": [
    "f = h5py.File(\"test.hdf5\", 'r')\n"
   ]
  },
  {
   "cell_type": "code",
   "execution_count": null,
   "metadata": {},
   "outputs": [],
   "source": [
    "f['atoms'].dtype"
   ]
  },
  {
   "cell_type": "code",
   "execution_count": null,
   "metadata": {},
   "outputs": [],
   "source": [
    "np.savetxt(\"test\",atom_pos)"
   ]
  },
  {
   "cell_type": "code",
   "execution_count": null,
   "metadata": {},
   "outputs": [],
   "source": []
  }
 ],
 "metadata": {
  "kernelspec": {
   "display_name": "Python 3 (ipykernel)",
   "language": "python",
   "name": "python3"
  },
  "language_info": {
   "codemirror_mode": {
    "name": "ipython",
    "version": 3
   },
   "file_extension": ".py",
   "mimetype": "text/x-python",
   "name": "python",
   "nbconvert_exporter": "python",
   "pygments_lexer": "ipython3",
   "version": "3.8.8"
  }
 },
 "nbformat": 4,
 "nbformat_minor": 4
}
