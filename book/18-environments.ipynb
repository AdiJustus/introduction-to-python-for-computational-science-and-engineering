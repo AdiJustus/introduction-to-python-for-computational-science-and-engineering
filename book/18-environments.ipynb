{
 "cells": [
  {
   "cell_type": "markdown",
   "id": "1c9c0e6f",
   "metadata": {},
   "source": [
    "# Python packages and environments "
   ]
  },
  {
   "cell_type": "markdown",
   "id": "1b9c90f9",
   "metadata": {},
   "source": [
    "## Introduction"
   ]
  },
  {
   "cell_type": "markdown",
   "id": "e16e842d",
   "metadata": {},
   "source": [
    "This chapter provides an introduction to installing python packages and using python environments.\n",
    "\n",
    "In the first part of the chapter you will learn how to\n",
    "\n",
    "- search the database of Python packages\n",
    "- install Python packages from the Python Packaging Index (PyPI)\n",
    "- create virtual Python environments to separate different projects\n",
    "\n",
    "In the second part, we provide additional information for users of the Anaconda distribution, in particular\n",
    "- using environments within conda\n",
    "- installing packages with conda\n",
    "- interplay between conda and pip\n",
    "\n",
    "We mention `pyenv` as an advanced tool at the very end.\n",
    "\n",
    "This chapter does not comment on the creation of Python packages.\n",
    "\n"
   ]
  },
  {
   "cell_type": "markdown",
   "id": "87476f9f",
   "metadata": {},
   "source": [
    "### Shell commands in the Jupyter notebook"
   ]
  },
  {
   "cell_type": "markdown",
   "id": "e44bdf38",
   "metadata": {},
   "source": [
    "This chapter is written in a Jupyter notebook. This can be helpful for the reader as the notebook can be executed, and so the command can be replayed and varied easily. \n",
    "\n",
    "In this particular chapter, we have lots of interaction with the shell of the operating system, and need to know two things:\n",
    "\n",
    "1. We use the exclamation mark (`!`) to tell Jupyter to send the following command to the shell (rather than interpret in the Python environment of this notebook). Here is an example:\n"
   ]
  },
  {
   "cell_type": "code",
   "execution_count": 1,
   "id": "95072485",
   "metadata": {},
   "outputs": [
    {
     "name": "stdout",
     "output_type": "stream",
     "text": [
      "Wed Jan  5 11:55:11 CET 2022\r\n"
     ]
    }
   ],
   "source": [
    "!date"
   ]
  },
  {
   "cell_type": "markdown",
   "id": "b4941444",
   "metadata": {},
   "source": [
    "2. If we modify shell variables (such as the PATH), these are only set within the same cell. This will lead to repitition of some commands. This is mildly annoying (and will not be the case if the same commands are used outside the Jupyter Notebook).\n",
    "\n",
    "   Here is an example to illustrate the issue: First we set a variable value and then we display it:"
   ]
  },
  {
   "cell_type": "code",
   "execution_count": 2,
   "id": "2a8099b7",
   "metadata": {},
   "outputs": [
    {
     "name": "stdout",
     "output_type": "stream",
     "text": [
      "test\r\n"
     ]
    }
   ],
   "source": [
    "!export NEW_VAR=\"test\" && echo $NEW_VAR"
   ]
  },
  {
   "cell_type": "markdown",
   "id": "acad3f2c",
   "metadata": {},
   "source": [
    "The `&&` operator instructs the shell to carry out the command to the right of `&&` if the command on the left succeeded."
   ]
  },
  {
   "cell_type": "markdown",
   "id": "42b3f30b",
   "metadata": {},
   "source": [
    "Repeating the \"echo\" command, we find the variable is not defined anymore:"
   ]
  },
  {
   "cell_type": "code",
   "execution_count": 3,
   "id": "fe35b90b",
   "metadata": {},
   "outputs": [
    {
     "name": "stdout",
     "output_type": "stream",
     "text": [
      "\r\n"
     ]
    }
   ],
   "source": [
    "!echo $NEW_VAR"
   ]
  },
  {
   "cell_type": "markdown",
   "id": "b979bd0d",
   "metadata": {},
   "source": [
    "So if we want to make use of those variable values, we need to repeat the setting of them:"
   ]
  },
  {
   "cell_type": "code",
   "execution_count": 4,
   "id": "16b405dc",
   "metadata": {},
   "outputs": [
    {
     "name": "stdout",
     "output_type": "stream",
     "text": [
      "The value of NEW_VAR is test.\r\n"
     ]
    }
   ],
   "source": [
    "!export NEW_VAR=\"test\" && echo \"The value of NEW_VAR is $NEW_VAR.\""
   ]
  },
  {
   "cell_type": "markdown",
   "id": "97d5ba32",
   "metadata": {},
   "source": [
    "We need to make use of this when activiting virtual environments (below)."
   ]
  },
  {
   "cell_type": "markdown",
   "id": "5a564481",
   "metadata": {},
   "source": [
    "### Prerequisits\n",
    "\n",
    "We assume that you have already python installed on your system. (And we assume\n",
    "that you are using Python3.) If you haven't got Python 3 yet, then either\n",
    "[install the Anaconda\n",
    "distribution](https://fangohr.github.io/blog/installation-of-python-spyder-numpy-sympy-scipy-pytest-matplotlib-via-anaconda.html),\n",
    "follow the instructions of the [Hitchhiker's Guide to\n",
    "Python](https://docs.python-guide.org/starting/installation/#installation) or\n",
    "take some other action.\n",
    "\n",
    "Check that you have python installed:"
   ]
  },
  {
   "cell_type": "code",
   "execution_count": 5,
   "id": "74304113",
   "metadata": {},
   "outputs": [
    {
     "name": "stdout",
     "output_type": "stream",
     "text": [
      "Python 3.9.7\r\n"
     ]
    }
   ],
   "source": [
    "!python --version"
   ]
  },
  {
   "cell_type": "markdown",
   "id": "ab6c329c",
   "metadata": {},
   "source": [
    "We also assume you have a somewhat recent Python version (3.8 and above)."
   ]
  },
  {
   "cell_type": "markdown",
   "id": "42050383",
   "metadata": {},
   "source": [
    "The commands below are tested for Linux and OSX operating system. If you use windows, please check the corresponding commands from here: https://packaging.python.org/en/latest/tutorials/installing-packages/"
   ]
  },
  {
   "cell_type": "markdown",
   "id": "a8cfecc8",
   "metadata": {},
   "source": [
    "## Python virtual environments\n",
    "\n",
    "Before we install packages (be it our own or those from somebody else), we should create a new virtual environment. This is good practice because\n",
    "\n",
    "- we can delete it when we don't need it any more\n",
    "- we can not break other projects using python we may be working on\n",
    "- we have no constraints about versions of particular libraries (it could be that one application needs version 2.x of a library and another application needs the version 1.8: if the two applications are installed in different environments, then this is no problem)\n",
    "\n",
    "### Creating virtual enviroments\n",
    "\n",
    "We can create a virtual environment using this command"
   ]
  },
  {
   "cell_type": "code",
   "execution_count": 6,
   "id": "febb273d",
   "metadata": {},
   "outputs": [],
   "source": [
    "!python -m venv myvirtualenv"
   ]
  },
  {
   "cell_type": "markdown",
   "id": "25daa29a",
   "metadata": {},
   "source": [
    "This command creates a subdirectory with name `myvirtualenv` in the current directory which contains the new virtual environment:"
   ]
  },
  {
   "cell_type": "code",
   "execution_count": 7,
   "id": "8f7ffced",
   "metadata": {},
   "outputs": [
    {
     "name": "stdout",
     "output_type": "stream",
     "text": [
      "drwxr-xr-x  6 fangohr  staff  192 Jan  5 11:55 \u001b[34mmyvirtualenv/\u001b[m\u001b[m\r\n"
     ]
    }
   ],
   "source": [
    "!ls -dl myvirtualenv/"
   ]
  },
  {
   "cell_type": "markdown",
   "id": "f20f3125",
   "metadata": {},
   "source": [
    "The virtual environment will use the same Python interpreter that we have used above when creating it. On Linux/OSX system, we can find out which interpreter this is by using the `which` command:"
   ]
  },
  {
   "cell_type": "code",
   "execution_count": 8,
   "id": "d5221a01",
   "metadata": {},
   "outputs": [
    {
     "name": "stdout",
     "output_type": "stream",
     "text": [
      "/Users/fangohr/anaconda3/bin/python\r\n"
     ]
    }
   ],
   "source": [
    "!which python"
   ]
  },
  {
   "cell_type": "markdown",
   "id": "03921f9f",
   "metadata": {},
   "source": [
    "If the basics are sufficient for you, you can skip to the next section about activating a virtual environment."
   ]
  },
  {
   "cell_type": "markdown",
   "id": "c5b757c6",
   "metadata": {},
   "source": [
    "We also be more specific, and choose a particular Python interpreter when using the `-m venv` command to force use of a particular python version. On a Mac (OSX), if python3 was installed via brew, there is a python executable in `/usr/local/bin/python3`. To force creation of a virtual environment using this interpreter, we could use\n",
    "\n",
    "```\n",
    "/usr/local/bin/python3 -m venv myvirtualenv\n",
    "```"
   ]
  },
  {
   "cell_type": "markdown",
   "id": "15903d4e",
   "metadata": {},
   "source": [
    "There is no need to know what is happening inside this folder, but as we are curious, we'll have a very brief look anyway:"
   ]
  },
  {
   "cell_type": "code",
   "execution_count": 9,
   "id": "a4292a45",
   "metadata": {},
   "outputs": [
    {
     "name": "stdout",
     "output_type": "stream",
     "text": [
      "\u001b[34mbin\u001b[m\u001b[m        \u001b[34minclude\u001b[m\u001b[m    \u001b[34mlib\u001b[m\u001b[m        pyvenv.cfg\r\n"
     ]
    }
   ],
   "source": [
    "!ls myvirtualenv/"
   ]
  },
  {
   "cell_type": "markdown",
   "id": "5837745b",
   "metadata": {},
   "source": [
    "The `pyvenv.cfg` file contains information about the Python interpreter we are using "
   ]
  },
  {
   "cell_type": "code",
   "execution_count": 10,
   "id": "6a0010dc",
   "metadata": {},
   "outputs": [
    {
     "name": "stdout",
     "output_type": "stream",
     "text": [
      "home = /Users/fangohr/anaconda3/bin\r\n",
      "include-system-site-packages = false\r\n",
      "version = 3.9.7\r\n"
     ]
    }
   ],
   "source": [
    "!cat myvirtualenv/pyvenv.cfg"
   ]
  },
  {
   "cell_type": "markdown",
   "id": "24901c5b",
   "metadata": {},
   "source": [
    "Out of interest, we can check the total Disk Usage of that subdirectory:"
   ]
  },
  {
   "cell_type": "code",
   "execution_count": 11,
   "id": "3f85cd5d",
   "metadata": {},
   "outputs": [
    {
     "name": "stdout",
     "output_type": "stream",
     "text": [
      " 15M\tmyvirtualenv/\r\n"
     ]
    }
   ],
   "source": [
    "!du -hs myvirtualenv/"
   ]
  },
  {
   "cell_type": "markdown",
   "id": "88726916",
   "metadata": {},
   "source": [
    "To use this virtual environment, we need to activate it:"
   ]
  },
  {
   "cell_type": "markdown",
   "id": "bf8bef82",
   "metadata": {},
   "source": [
    "### Activating a virtual environment\n",
    "\n",
    "To activate the virtual environment, we need to know in which folder it is installed (in our case in `myvirtualenv`). On Linux and OSX, we run the following shell command:"
   ]
  },
  {
   "cell_type": "code",
   "execution_count": 12,
   "id": "f063955e",
   "metadata": {},
   "outputs": [],
   "source": [
    "!source myvirtualenv/bin/activate"
   ]
  },
  {
   "cell_type": "markdown",
   "id": "88ca1a4a",
   "metadata": {},
   "source": [
    "This changes the `PATH` variable, which the operating system uses search for the `python` executable: it puts the directory that contains the python interpreter in our virtual enviromnent to the beginning of the PATH valiabl. We can check that this works, by using the `which` command again:"
   ]
  },
  {
   "cell_type": "code",
   "execution_count": 13,
   "id": "e8e54fc5",
   "metadata": {},
   "outputs": [
    {
     "name": "stdout",
     "output_type": "stream",
     "text": [
      "/Users/fangohr/git/introduction-to-python-for-computational-science-and-engineering/book/myvirtualenv/bin/python\r\n"
     ]
    }
   ],
   "source": [
    "!source myvirtualenv/bin/activate && which python"
   ]
  },
  {
   "cell_type": "markdown",
   "id": "bf332a5e",
   "metadata": {},
   "source": [
    "(As outlined in the introduction, the repitition of the `activate` command is only necessary because we work from a Notebook here: if you go through these steps in a shell, you can ignore this, and write `which python` straight away.)"
   ]
  },
  {
   "cell_type": "markdown",
   "id": "942f4570",
   "metadata": {},
   "source": [
    "### Using the virtual environment\n",
    "\n",
    "Once we have activated the virtual enviroment, we can use it as we would use the default Python environment provided on the system. \n",
    "\n",
    "For example to install some Python packages."
   ]
  },
  {
   "cell_type": "markdown",
   "id": "44802c35",
   "metadata": {},
   "source": [
    "### Name of the virtual environment\n",
    "\n",
    "We have used `myvirtualenv` as the name of the virtual environment. In general, the name can be chosen freely. Commonly used names include `env` or `venv`. Ocasionally, the environment is installed in a hidden subdirectory (such as `.env` or `.venv`). \n",
    "\n",
    "We have not used the `venv` name for pedagogical to avoid confusion with the `venv` module."
   ]
  },
  {
   "cell_type": "markdown",
   "id": "e3c15d6b",
   "metadata": {},
   "source": [
    "## Python Package Index (PyPI)"
   ]
  },
  {
   "cell_type": "markdown",
   "id": "663c4603",
   "metadata": {},
   "source": [
    "The Python Package Index provides a searchable web interface (https://pypi.org) that provides all Python packages registered with PyPI.\n",
    "\n",
    "PyPI is the standard way of distributing (open source) python packages, and commonly used in science and engineering as well."
   ]
  },
  {
   "cell_type": "markdown",
   "id": "441a64f0",
   "metadata": {},
   "source": [
    "### Installing packages with `pip`\n",
    "\n",
    "The command to install one or more of these package is `pip`. We will activate our virtual environment and install some example packages:"
   ]
  },
  {
   "cell_type": "code",
   "execution_count": 14,
   "id": "2aeb98e3",
   "metadata": {},
   "outputs": [
    {
     "name": "stdout",
     "output_type": "stream",
     "text": [
      "Collecting cowsay\n",
      "  Using cached cowsay-4.0-py2.py3-none-any.whl (24 kB)\n",
      "Installing collected packages: cowsay\n",
      "Successfully installed cowsay-4.0\n",
      "\u001b[33mWARNING: You are using pip version 21.2.3; however, version 21.3.1 is available.\n",
      "You should consider upgrading via the '/Users/fangohr/git/introduction-to-python-for-computational-science-and-engineering/book/myvirtualenv/bin/python -m pip install --upgrade pip' command.\u001b[0m\n"
     ]
    }
   ],
   "source": [
    "!source myvirtualenv/bin/activate && pip install cowsay"
   ]
  },
  {
   "cell_type": "markdown",
   "id": "99c5de17",
   "metadata": {},
   "source": [
    "As we get a warning that suggests to upgrade the `pip` package itself, we shall follow the instructions and run the recommended command:"
   ]
  },
  {
   "cell_type": "code",
   "execution_count": 15,
   "id": "e36e3786",
   "metadata": {},
   "outputs": [
    {
     "name": "stdout",
     "output_type": "stream",
     "text": [
      "Requirement already satisfied: pip in ./myvirtualenv/lib/python3.9/site-packages (21.2.3)\n",
      "Collecting pip\n",
      "  Using cached pip-21.3.1-py3-none-any.whl (1.7 MB)\n",
      "Installing collected packages: pip\n",
      "  Attempting uninstall: pip\n",
      "    Found existing installation: pip 21.2.3\n",
      "    Uninstalling pip-21.2.3:\n",
      "      Successfully uninstalled pip-21.2.3\n",
      "Successfully installed pip-21.3.1\n"
     ]
    }
   ],
   "source": [
    "!source myvirtualenv/bin/activate && pip install --upgrade pip"
   ]
  },
  {
   "cell_type": "code",
   "execution_count": 16,
   "id": "21a51d23",
   "metadata": {},
   "outputs": [
    {
     "name": "stdout",
     "output_type": "stream",
     "text": [
      "  _____________\r\n",
      "| Hellooo World |\r\n",
      "  =============\r\n",
      "             \\\r\n",
      "              \\\r\n",
      "                ^__^\r\n",
      "                (oo)\\_______\r\n",
      "                (__)\\       )\\/\\\r\n",
      "                    ||----w |\r\n",
      "                    ||     ||\r\n"
     ]
    }
   ],
   "source": [
    "!source myvirtualenv/bin/activate && cowsay Hellooo World"
   ]
  },
  {
   "cell_type": "markdown",
   "id": "60564ee0",
   "metadata": {},
   "source": [
    "We can confirm the list of packages we have installed (together with their version number) using `pip list`:\n"
   ]
  },
  {
   "cell_type": "code",
   "execution_count": 17,
   "id": "60ecf457",
   "metadata": {},
   "outputs": [
    {
     "name": "stdout",
     "output_type": "stream",
     "text": [
      "Package    Version\r\n",
      "---------- -------\r\n",
      "cowsay     4.0\r\n",
      "pip        21.3.1\r\n",
      "setuptools 57.4.0\r\n"
     ]
    }
   ],
   "source": [
    "!source myvirtualenv/bin/activate && pip list"
   ]
  },
  {
   "cell_type": "markdown",
   "id": "1f7aca2c",
   "metadata": {},
   "source": [
    "### Learn more about an installed package using `pip show`"
   ]
  },
  {
   "cell_type": "markdown",
   "id": "6e1bfee0",
   "metadata": {},
   "source": [
    "Once a package is installed, we can use `pip show` to learn more about it:"
   ]
  },
  {
   "cell_type": "code",
   "execution_count": 18,
   "id": "23bca662",
   "metadata": {},
   "outputs": [
    {
     "name": "stdout",
     "output_type": "stream",
     "text": [
      "Name: cowsay\r\n",
      "Version: 4.0\r\n",
      "Summary: The famous cowsay for GNU/Linux is now available for python\r\n",
      "Home-page: https://github.com/VaasuDevanS/cowsay-python\r\n",
      "Author: Vaasudevan Srinivasan\r\n",
      "Author-email: vaasuceg.96@gmail.com\r\n",
      "License: GNU-GPL\r\n",
      "Location: /Users/fangohr/git/introduction-to-python-for-computational-science-and-engineering/book/myvirtualenv/lib/python3.9/site-packages\r\n",
      "Requires: \r\n",
      "Required-by: \r\n"
     ]
    }
   ],
   "source": [
    "!source myvirtualenv/bin/activate && pip show cowsay"
   ]
  },
  {
   "cell_type": "markdown",
   "id": "b6edaa2b",
   "metadata": {},
   "source": [
    "For packages that are not installed yet, we need to search https://pypi.org to learn more about them. This includes the list of available packages (under \"release history\").\n",
    "\n",
    "(There are command line tools such as [pip-search](https://pypi.org/project/pip-search/) that can help to find package names, but they do not provide the same depth  of information as the web page [at the time of writing])."
   ]
  },
  {
   "cell_type": "markdown",
   "id": "63bb928d",
   "metadata": {},
   "source": [
    "### Uninstalling packages with `pip`"
   ]
  },
  {
   "cell_type": "markdown",
   "id": "395d6524",
   "metadata": {},
   "source": [
    "(The `-y` is short for `yes` and tells `pip uninstall` not to ask for confirmation if `cowsay` should be uninstalled.)"
   ]
  },
  {
   "cell_type": "code",
   "execution_count": 19,
   "id": "fd761b48",
   "metadata": {},
   "outputs": [
    {
     "name": "stdout",
     "output_type": "stream",
     "text": [
      "Found existing installation: cowsay 4.0\r\n",
      "Uninstalling cowsay-4.0:\r\n",
      "  Successfully uninstalled cowsay-4.0\r\n"
     ]
    }
   ],
   "source": [
    "!source myvirtualenv/bin/activate && pip uninstall -y cowsay "
   ]
  },
  {
   "cell_type": "code",
   "execution_count": 20,
   "id": "104b4d87",
   "metadata": {},
   "outputs": [
    {
     "name": "stdout",
     "output_type": "stream",
     "text": [
      "Package    Version\r\n",
      "---------- -------\r\n",
      "pip        21.3.1\r\n",
      "setuptools 57.4.0\r\n"
     ]
    }
   ],
   "source": [
    "!source myvirtualenv/bin/activate && pip list"
   ]
  },
  {
   "cell_type": "markdown",
   "id": "2d8dfe34",
   "metadata": {},
   "source": [
    "### Installing packages with additional dependencies"
   ]
  },
  {
   "cell_type": "markdown",
   "id": "2faa44d7",
   "metadata": {},
   "source": [
    "As a second example, we'll install the `wikipedia` package. We will see that it needs additional python packages as dependencies, which will be installed automatically:"
   ]
  },
  {
   "cell_type": "code",
   "execution_count": 21,
   "id": "cab3467d",
   "metadata": {},
   "outputs": [
    {
     "name": "stdout",
     "output_type": "stream",
     "text": [
      "Collecting wikipedia\n",
      "  Using cached wikipedia-1.4.0.tar.gz (27 kB)\n",
      "  Preparing metadata (setup.py) ... \u001b[?25ldone\n",
      "\u001b[?25hCollecting beautifulsoup4\n",
      "  Using cached beautifulsoup4-4.10.0-py3-none-any.whl (97 kB)\n",
      "Collecting requests<3.0.0,>=2.0.0\n",
      "  Using cached requests-2.27.0-py2.py3-none-any.whl (63 kB)\n",
      "Collecting idna<4,>=2.5\n",
      "  Using cached idna-3.3-py3-none-any.whl (61 kB)\n",
      "Collecting charset-normalizer~=2.0.0\n",
      "  Using cached charset_normalizer-2.0.10-py3-none-any.whl (39 kB)\n",
      "Collecting urllib3<1.27,>=1.21.1\n",
      "  Using cached urllib3-1.26.7-py2.py3-none-any.whl (138 kB)\n",
      "Collecting certifi>=2017.4.17\n",
      "  Using cached certifi-2021.10.8-py2.py3-none-any.whl (149 kB)\n",
      "Collecting soupsieve>1.2\n",
      "  Using cached soupsieve-2.3.1-py3-none-any.whl (37 kB)\n",
      "Using legacy 'setup.py install' for wikipedia, since package 'wheel' is not installed.\n",
      "Installing collected packages: urllib3, soupsieve, idna, charset-normalizer, certifi, requests, beautifulsoup4, wikipedia\n",
      "    Running setup.py install for wikipedia ... \u001b[?25ldone\n",
      "\u001b[?25hSuccessfully installed beautifulsoup4-4.10.0 certifi-2021.10.8 charset-normalizer-2.0.10 idna-3.3 requests-2.27.0 soupsieve-2.3.1 urllib3-1.26.7 wikipedia-1.4.0\n"
     ]
    }
   ],
   "source": [
    "!source myvirtualenv/bin/activate && pip install wikipedia"
   ]
  },
  {
   "cell_type": "code",
   "execution_count": 22,
   "id": "a916ef49",
   "metadata": {},
   "outputs": [
    {
     "name": "stdout",
     "output_type": "stream",
     "text": [
      "cowsay is a program that generates ASCII art pictures of a cow with a message. It can also generate pictures using pre-made images of other animals, such as Tux the Penguin, the Linux mascot. It is written in Perl. There is also a related program called cowthink, with cows with thought bubbles rather than speech bubbles. .cow files for cowsay exist which are able to produce different variants of \"cows\", with different kinds of \"eyes\", and so forth. It is sometimes used on IRC, desktop screenshots, and in software documentation. It is more or less a joke within hacker culture, but has been around long enough that its use is rather widespread. In 2007, it was highlighted as a Debian package of the day.\r\n"
     ]
    }
   ],
   "source": [
    "!source myvirtualenv/bin/activate && python -c \"import wikipedia; print(wikipedia.summary('cowsay'))\""
   ]
  },
  {
   "cell_type": "markdown",
   "id": "a89859c8",
   "metadata": {},
   "source": [
    "It is worth noting that if we uninstall `wikipedia`, the dependencies that `wikipedia` needs (such as `beautifulsoup4`) are *not* uninstalled:"
   ]
  },
  {
   "cell_type": "code",
   "execution_count": 23,
   "id": "c820b625",
   "metadata": {},
   "outputs": [
    {
     "name": "stdout",
     "output_type": "stream",
     "text": [
      "Found existing installation: wikipedia 1.4.0\r\n",
      "Uninstalling wikipedia-1.4.0:\r\n",
      "  Successfully uninstalled wikipedia-1.4.0\r\n"
     ]
    }
   ],
   "source": [
    "!source myvirtualenv/bin/activate && pip uninstall -y wikipedia"
   ]
  },
  {
   "cell_type": "code",
   "execution_count": 24,
   "id": "4b276aaa",
   "metadata": {},
   "outputs": [
    {
     "name": "stdout",
     "output_type": "stream",
     "text": [
      "Package            Version\r\n",
      "------------------ ---------\r\n",
      "beautifulsoup4     4.10.0\r\n",
      "certifi            2021.10.8\r\n",
      "charset-normalizer 2.0.10\r\n",
      "idna               3.3\r\n",
      "pip                21.3.1\r\n",
      "requests           2.27.0\r\n",
      "setuptools         57.4.0\r\n",
      "soupsieve          2.3.1\r\n",
      "urllib3            1.26.7\r\n"
     ]
    }
   ],
   "source": [
    "!source myvirtualenv/bin/activate && pip list"
   ]
  },
  {
   "cell_type": "markdown",
   "id": "81dcf895",
   "metadata": {},
   "source": [
    "This can lead to an accumulation of (partly unneeded) python packages. Also for this reason, it is good practice to create a virtual environment *from scratch* when startinga new project, and to discard it afterwards."
   ]
  },
  {
   "cell_type": "markdown",
   "id": "762a0c07",
   "metadata": {},
   "source": [
    "### Installing particular versions with pip"
   ]
  },
  {
   "cell_type": "markdown",
   "id": "558a5f80",
   "metadata": {},
   "source": [
    "Occasionally, we need to install a particular version of a package. For example, imagine we need version 2.0 of cowsay. In that case, we can use the `==` operator to specify this requirement:"
   ]
  },
  {
   "cell_type": "code",
   "execution_count": 25,
   "id": "f8042bce",
   "metadata": {},
   "outputs": [
    {
     "name": "stdout",
     "output_type": "stream",
     "text": [
      "Collecting cowsay==3.0\n",
      "  Using cached cowsay-3.0-py2.py3-none-any.whl (19 kB)\n",
      "Installing collected packages: cowsay\n",
      "Successfully installed cowsay-3.0\n"
     ]
    }
   ],
   "source": [
    "!source myvirtualenv/bin/activate && pip install cowsay==3.0"
   ]
  },
  {
   "cell_type": "code",
   "execution_count": 26,
   "id": "af436ee8",
   "metadata": {},
   "outputs": [
    {
     "name": "stdout",
     "output_type": "stream",
     "text": [
      "3.0\r\n"
     ]
    }
   ],
   "source": [
    "!source myvirtualenv/bin/activate && cowsay --version"
   ]
  },
  {
   "cell_type": "markdown",
   "id": "28ffd65f",
   "metadata": {},
   "source": [
    "### Upgrading a pip-installed package"
   ]
  },
  {
   "cell_type": "code",
   "execution_count": 27,
   "id": "b080cc3d",
   "metadata": {},
   "outputs": [
    {
     "name": "stdout",
     "output_type": "stream",
     "text": [
      "Requirement already satisfied: cowsay in ./myvirtualenv/lib/python3.9/site-packages (3.0)\n",
      "Collecting cowsay\n",
      "  Using cached cowsay-4.0-py2.py3-none-any.whl (24 kB)\n",
      "Installing collected packages: cowsay\n",
      "  Attempting uninstall: cowsay\n",
      "    Found existing installation: cowsay 3.0\n",
      "    Uninstalling cowsay-3.0:\n",
      "      Successfully uninstalled cowsay-3.0\n",
      "Successfully installed cowsay-4.0\n"
     ]
    }
   ],
   "source": [
    "!source myvirtualenv/bin/activate && pip install -U cowsay"
   ]
  },
  {
   "cell_type": "code",
   "execution_count": 28,
   "id": "1637058c",
   "metadata": {},
   "outputs": [
    {
     "name": "stdout",
     "output_type": "stream",
     "text": [
      "4.0\r\n"
     ]
    }
   ],
   "source": [
    "!source myvirtualenv/bin/activate && cowsay --version"
   ]
  },
  {
   "cell_type": "markdown",
   "id": "793d3b50",
   "metadata": {},
   "source": [
    "Let's remove cowsay again:"
   ]
  },
  {
   "cell_type": "code",
   "execution_count": 29,
   "id": "20fcce04",
   "metadata": {},
   "outputs": [
    {
     "name": "stdout",
     "output_type": "stream",
     "text": [
      "Found existing installation: cowsay 4.0\r\n",
      "Uninstalling cowsay-4.0:\r\n",
      "  Successfully uninstalled cowsay-4.0\r\n"
     ]
    }
   ],
   "source": [
    "!source myvirtualenv/bin/activate && pip uninstall -y cowsay"
   ]
  },
  {
   "cell_type": "markdown",
   "id": "4a4faa43",
   "metadata": {},
   "source": [
    "### Installing a package from github"
   ]
  },
  {
   "cell_type": "markdown",
   "id": "9cf0c9fe",
   "metadata": {},
   "source": [
    "If we want to install the latest development version of the (Python) cowsay package, we have two options. \n",
    "\n",
    "**The first option is to `pip install` directly** from the github. The github repository is at https://github.com/VaasuDevanS/cowsay-python "
   ]
  },
  {
   "cell_type": "code",
   "execution_count": 30,
   "id": "d4bb9d6d",
   "metadata": {},
   "outputs": [
    {
     "name": "stdout",
     "output_type": "stream",
     "text": [
      "Collecting git+https://github.com/VaasuDevanS/cowsay-python.git\n",
      "  Cloning https://github.com/VaasuDevanS/cowsay-python.git to /private/var/folders/wc/d1lyft3x2jn29b6yffrzh4vw0000gq/T/pip-req-build-7gxyjbt6\n",
      "  Running command git clone --filter=blob:none -q https://github.com/VaasuDevanS/cowsay-python.git /private/var/folders/wc/d1lyft3x2jn29b6yffrzh4vw0000gq/T/pip-req-build-7gxyjbt6\n",
      "  Resolved https://github.com/VaasuDevanS/cowsay-python.git to commit 767c09425d813b80d67cdebba02ce387ca2eb4e8\n",
      "  Preparing metadata (setup.py) ... \u001b[?25ldone\n",
      "\u001b[?25hUsing legacy 'setup.py install' for cowsay, since package 'wheel' is not installed.\n",
      "Installing collected packages: cowsay\n",
      "    Running setup.py install for cowsay ... \u001b[?25ldone\n",
      "\u001b[?25hSuccessfully installed cowsay-4.0\n"
     ]
    }
   ],
   "source": [
    "!source myvirtualenv/bin/activate && pip install git+https://github.com/VaasuDevanS/cowsay-python.git"
   ]
  },
  {
   "cell_type": "code",
   "execution_count": 31,
   "id": "8dcaff53",
   "metadata": {},
   "outputs": [
    {
     "name": "stdout",
     "output_type": "stream",
     "text": [
      "4.0\r\n"
     ]
    }
   ],
   "source": [
    "!source myvirtualenv/bin/activate && cowsay --version"
   ]
  },
  {
   "cell_type": "code",
   "execution_count": 32,
   "id": "4c5f9f64",
   "metadata": {},
   "outputs": [
    {
     "name": "stdout",
     "output_type": "stream",
     "text": [
      "Found existing installation: cowsay 4.0\n",
      "Uninstalling cowsay-4.0:\n",
      "  Successfully uninstalled cowsay-4.0\n"
     ]
    }
   ],
   "source": [
    "!source myvirtualenv/bin/activate && pip uninstall -y cowsay "
   ]
  },
  {
   "cell_type": "markdown",
   "id": "b6d7ddde",
   "metadata": {},
   "source": [
    "**The second option is to clone the git repository to our local machine, and then to install the package from that local directory**:"
   ]
  },
  {
   "cell_type": "code",
   "execution_count": 33,
   "id": "5c05b8ac",
   "metadata": {},
   "outputs": [
    {
     "name": "stdout",
     "output_type": "stream",
     "text": [
      "Cloning into 'cowsay-python'...\n",
      "remote: Enumerating objects: 170, done.\u001b[K\n",
      "remote: Counting objects: 100% (82/82), done.\u001b[K\n",
      "remote: Compressing objects: 100% (40/40), done.\u001b[K\n",
      "remote: Total 170 (delta 41), reused 77 (delta 40), pack-reused 88\u001b[K\n",
      "Receiving objects: 100% (170/170), 79.19 KiB | 772.00 KiB/s, done.\n",
      "Resolving deltas: 100% (72/72), done.\n"
     ]
    }
   ],
   "source": [
    "!cd /tmp && git clone https://github.com/VaasuDevanS/cowsay-python.git"
   ]
  },
  {
   "cell_type": "code",
   "execution_count": 34,
   "id": "94b807f7",
   "metadata": {},
   "outputs": [
    {
     "name": "stdout",
     "output_type": "stream",
     "text": [
      "Processing /private/tmp/cowsay-python\n",
      "  Preparing metadata (setup.py) ... \u001b[?25ldone\n",
      "\u001b[?25hUsing legacy 'setup.py install' for cowsay, since package 'wheel' is not installed.\n",
      "Installing collected packages: cowsay\n",
      "    Running setup.py install for cowsay ... \u001b[?25ldone\n",
      "\u001b[?25hSuccessfully installed cowsay-4.0\n"
     ]
    }
   ],
   "source": [
    "!source myvirtualenv/bin/activate && cd /tmp/cowsay-python && pip install ."
   ]
  },
  {
   "cell_type": "code",
   "execution_count": 35,
   "id": "a01d259d",
   "metadata": {},
   "outputs": [
    {
     "name": "stdout",
     "output_type": "stream",
     "text": [
      "4.0\r\n"
     ]
    }
   ],
   "source": [
    "!source myvirtualenv/bin/activate && cowsay --version"
   ]
  },
  {
   "cell_type": "markdown",
   "id": "fa20f898",
   "metadata": {},
   "source": [
    "### Pip install a user-editable package from a local directory"
   ]
  },
  {
   "cell_type": "markdown",
   "id": "826912da",
   "metadata": {},
   "source": [
    "This example carries on from the `git clone` example above.\n",
    "\n",
    "If we pip-install python packages, these are normally installed in the directory tree in the virtual environment. For example:"
   ]
  },
  {
   "cell_type": "code",
   "execution_count": 36,
   "id": "fdf133e7",
   "metadata": {},
   "outputs": [
    {
     "name": "stdout",
     "output_type": "stream",
     "text": [
      "__init__.py   \u001b[34m__pycache__\u001b[m\u001b[m   main.py\r\n",
      "__main__.py   characters.py test.py\r\n"
     ]
    }
   ],
   "source": [
    "!ls myvirtualenv/lib/python3.*/site-packages/cowsay\n"
   ]
  },
  {
   "cell_type": "markdown",
   "id": "ccea3204",
   "metadata": {},
   "source": [
    "If we intend to edit the python files in the package (for example because we want to develop it further, or explore it), and we want those edits to be visible in the 'installed' package, we can ask `pip` to carry out an `editable` install using the `-e` flag:"
   ]
  },
  {
   "cell_type": "code",
   "execution_count": 37,
   "id": "99a3b0ae",
   "metadata": {},
   "outputs": [
    {
     "name": "stdout",
     "output_type": "stream",
     "text": [
      "Found existing installation: cowsay 4.0\r\n",
      "Uninstalling cowsay-4.0:\r\n",
      "  Successfully uninstalled cowsay-4.0\r\n"
     ]
    }
   ],
   "source": [
    "!source myvirtualenv/bin/activate && pip uninstall -y cowsay"
   ]
  },
  {
   "cell_type": "code",
   "execution_count": 38,
   "id": "ae24d4fb",
   "metadata": {},
   "outputs": [
    {
     "name": "stdout",
     "output_type": "stream",
     "text": [
      "Obtaining file:///private/tmp/cowsay-python\n",
      "  Preparing metadata (setup.py) ... \u001b[?25ldone\n",
      "\u001b[?25hInstalling collected packages: cowsay\n",
      "  Running setup.py develop for cowsay\n",
      "Successfully installed cowsay-4.0\n"
     ]
    }
   ],
   "source": [
    "!source myvirtualenv/bin/activate && cd /tmp/cowsay-python && pip install -e ."
   ]
  },
  {
   "cell_type": "markdown",
   "id": "3eb3c006",
   "metadata": {},
   "source": [
    "In this case, only a link to our local package is created:"
   ]
  },
  {
   "cell_type": "code",
   "execution_count": 39,
   "id": "5f620d50",
   "metadata": {},
   "outputs": [
    {
     "name": "stdout",
     "output_type": "stream",
     "text": [
      "-rw-r--r--  1 fangohr  staff  28 Jan  5 11:55 myvirtualenv/lib/python3.9/site-packages/cowsay.egg-link\r\n"
     ]
    }
   ],
   "source": [
    "!ls -l myvirtualenv/lib/python3.*/site-packages/cowsay*\n"
   ]
  },
  {
   "cell_type": "code",
   "execution_count": 40,
   "id": "a0d9e96e",
   "metadata": {},
   "outputs": [
    {
     "name": "stdout",
     "output_type": "stream",
     "text": [
      "/private/tmp/cowsay-python\r\n",
      "."
     ]
    }
   ],
   "source": [
    "!cat myvirtualenv/lib/python3.*/site-packages/cowsay*\n",
    "\n"
   ]
  },
  {
   "cell_type": "markdown",
   "id": "59c7b76e",
   "metadata": {},
   "source": [
    "### Advance pip use: `freeze`, `-r requirements.txt` and creating reproducible environments"
   ]
  },
  {
   "cell_type": "markdown",
   "id": "18e20dea",
   "metadata": {},
   "source": [
    "If you want to record (and later re-use) a combination of python packages *with their specific version numbers*, you can use the `pip freeze` command to provide such a list."
   ]
  },
  {
   "cell_type": "code",
   "execution_count": 41,
   "id": "98c317d9",
   "metadata": {},
   "outputs": [
    {
     "name": "stdout",
     "output_type": "stream",
     "text": [
      "beautifulsoup4==4.10.0\r\n",
      "certifi==2021.10.8\r\n",
      "charset-normalizer==2.0.10\r\n",
      "-e git+https://github.com/VaasuDevanS/cowsay-python.git@767c09425d813b80d67cdebba02ce387ca2eb4e8#egg=cowsay\r\n",
      "idna==3.3\r\n",
      "requests==2.27.0\r\n",
      "soupsieve==2.3.1\r\n",
      "urllib3==1.26.7\r\n"
     ]
    }
   ],
   "source": [
    "!source myvirtualenv/bin/activate && pip freeze"
   ]
  },
  {
   "cell_type": "markdown",
   "id": "74c6b259",
   "metadata": {},
   "source": [
    "We can re-direct the output into a file (which by convention is called `requirements.txt`):"
   ]
  },
  {
   "cell_type": "code",
   "execution_count": 42,
   "id": "95e26480",
   "metadata": {},
   "outputs": [],
   "source": [
    "!source myvirtualenv/bin/activate && pip freeze > requirements.txt"
   ]
  },
  {
   "cell_type": "code",
   "execution_count": 43,
   "id": "5e7097ad",
   "metadata": {},
   "outputs": [
    {
     "name": "stdout",
     "output_type": "stream",
     "text": [
      "beautifulsoup4==4.10.0\r\n",
      "certifi==2021.10.8\r\n",
      "charset-normalizer==2.0.10\r\n",
      "-e git+https://github.com/VaasuDevanS/cowsay-python.git@767c09425d813b80d67cdebba02ce387ca2eb4e8#egg=cowsay\r\n",
      "idna==3.3\r\n",
      "requests==2.27.0\r\n",
      "soupsieve==2.3.1\r\n",
      "urllib3==1.26.7\r\n"
     ]
    }
   ],
   "source": [
    "!cat requirements.txt"
   ]
  },
  {
   "cell_type": "markdown",
   "id": "71c34b25",
   "metadata": {},
   "source": [
    "We can now create a new virtual environment, and install all the packages listed in the `requirements.txt` file into this new virtual environment:"
   ]
  },
  {
   "cell_type": "code",
   "execution_count": 44,
   "id": "9e5d9026",
   "metadata": {},
   "outputs": [],
   "source": [
    "!python -m venv myvirtualenv-copy"
   ]
  },
  {
   "cell_type": "code",
   "execution_count": 45,
   "id": "6ec58bcc",
   "metadata": {},
   "outputs": [
    {
     "name": "stdout",
     "output_type": "stream",
     "text": [
      "Obtaining cowsay from git+https://github.com/VaasuDevanS/cowsay-python.git@767c09425d813b80d67cdebba02ce387ca2eb4e8#egg=cowsay (from -r requirements.txt (line 4))\n",
      "  Cloning https://github.com/VaasuDevanS/cowsay-python.git (to revision 767c09425d813b80d67cdebba02ce387ca2eb4e8) to ./myvirtualenv-copy/src/cowsay\n",
      "  Running command git clone -q https://github.com/VaasuDevanS/cowsay-python.git /Users/fangohr/git/introduction-to-python-for-computational-science-and-engineering/book/myvirtualenv-copy/src/cowsay\n",
      "  Running command git rev-parse -q --verify 'sha^767c09425d813b80d67cdebba02ce387ca2eb4e8'\n",
      "  Running command git fetch -q https://github.com/VaasuDevanS/cowsay-python.git 767c09425d813b80d67cdebba02ce387ca2eb4e8\n",
      "  Resolved https://github.com/VaasuDevanS/cowsay-python.git to commit 767c09425d813b80d67cdebba02ce387ca2eb4e8\n",
      "Collecting beautifulsoup4==4.10.0\n",
      "  Using cached beautifulsoup4-4.10.0-py3-none-any.whl (97 kB)\n",
      "Collecting certifi==2021.10.8\n",
      "  Using cached certifi-2021.10.8-py2.py3-none-any.whl (149 kB)\n",
      "Collecting charset-normalizer==2.0.10\n",
      "  Using cached charset_normalizer-2.0.10-py3-none-any.whl (39 kB)\n",
      "Collecting idna==3.3\n",
      "  Using cached idna-3.3-py3-none-any.whl (61 kB)\n",
      "Collecting requests==2.27.0\n",
      "  Using cached requests-2.27.0-py2.py3-none-any.whl (63 kB)\n",
      "Collecting soupsieve==2.3.1\n",
      "  Using cached soupsieve-2.3.1-py3-none-any.whl (37 kB)\n",
      "Collecting urllib3==1.26.7\n",
      "  Using cached urllib3-1.26.7-py2.py3-none-any.whl (138 kB)\n",
      "Installing collected packages: urllib3, soupsieve, idna, charset-normalizer, certifi, requests, cowsay, beautifulsoup4\n",
      "  Running setup.py develop for cowsay\n",
      "Successfully installed beautifulsoup4-4.10.0 certifi-2021.10.8 charset-normalizer-2.0.10 cowsay-4.0 idna-3.3 requests-2.27.0 soupsieve-2.3.1 urllib3-1.26.7\n",
      "\u001b[33mWARNING: You are using pip version 21.2.3; however, version 21.3.1 is available.\n",
      "You should consider upgrading via the '/Users/fangohr/git/introduction-to-python-for-computational-science-and-engineering/book/myvirtualenv-copy/bin/python -m pip install --upgrade pip' command.\u001b[0m\n"
     ]
    }
   ],
   "source": [
    "!source myvirtualenv-copy/bin/activate && pip install -r requirements.txt"
   ]
  },
  {
   "cell_type": "markdown",
   "id": "f0285999",
   "metadata": {},
   "source": [
    "It is good practice to use the `freeze` command to store the list of packages and versions required for important projects (including those such as scientific publications, reports, theses), and the `requirements.txt` file should be archived together with the data and software.\n",
    "\n",
    "It is even better practice if the *creation* of the virtual enviroment is done in a scripted way (based on a `requirements.txt` file which should be part of the archived [and version-controlled] files of the analysis), and before all the required processing/simulation/analysis is in that environment.\n",
    "\n",
    "In practice, achieving full and guaranteed reproducibility is difficult. There are a variety of problems that could occur, such as for example the disappearance of the `pypi.org` service. How to achieve full reproducibility is an active research area, and deserves a separate chapter or book.\n",
    "\n",
    "In any case, recording the Python packages used is a very good first step."
   ]
  },
  {
   "cell_type": "markdown",
   "id": "c84b894a",
   "metadata": {},
   "source": [
    "### Deactivate a virtual environment"
   ]
  },
  {
   "cell_type": "markdown",
   "id": "cb79ad4c",
   "metadata": {},
   "source": [
    "To de-activate a virtual enviroment, use the `deactivate` command."
   ]
  },
  {
   "cell_type": "code",
   "execution_count": 46,
   "id": "58eaeb50",
   "metadata": {},
   "outputs": [
    {
     "name": "stdout",
     "output_type": "stream",
     "text": [
      "/Users/fangohr/anaconda3/bin/python\r\n"
     ]
    }
   ],
   "source": [
    "!source myvirtualenv/bin/activate && deactivate && which python"
   ]
  },
  {
   "cell_type": "markdown",
   "id": "86894406",
   "metadata": {},
   "source": [
    "### Deleting a virtual enviroment \n",
    "\n",
    "To completely remove the virtual environment, we can delete the subfolder in which it was installed:\n"
   ]
  },
  {
   "cell_type": "code",
   "execution_count": 47,
   "id": "c9a26435",
   "metadata": {},
   "outputs": [],
   "source": [
    "!rm -rf myvirtualenv"
   ]
  },
  {
   "cell_type": "markdown",
   "id": "f55f8b01",
   "metadata": {},
   "source": [
    "### Further reading\n",
    "\n",
    "- Installing Python packages: https://packaging.python.org/en/latest/tutorials/installing-packages\n",
    "- `venv` module documentation: https://docs.python.org/3/library/venv.html"
   ]
  },
  {
   "cell_type": "markdown",
   "id": "ac3cd528",
   "metadata": {},
   "source": [
    "## Anaconda"
   ]
  },
  {
   "cell_type": "markdown",
   "id": "09b9428e",
   "metadata": {},
   "source": [
    "### Introduction\n",
    "\n",
    "The Anaconda software distribution brings its own packaging, which is controlled through the `conda` command. \n",
    "\n",
    "Anaconda is well known as a Python distribution, but is in no way limited to Python packages: it is a generic package manager. Together with the community-run [conda-forge](http://conda-forge.org) project, there is a multitude of packages available. A particular bonus of the the conda packages is that they can be provided for the three major operating systems is use (Linux, OSX, Windows).\n",
    "\n",
    "Conda provides **conda packages** for some Python packages that are available from the Python Package Index (PyPI). One thus needs to ask: should I install a package using the conda command (`conda install spyder`) or through pip (`pip install spyder`). See below for the answer.\n",
    "\n",
    "`conda` provides its own **(conda) environments** (see https://docs.conda.io/projects/conda/en/latest/user-guide/tasks/manage-environments.html). They show many similarities with our (basic) discussion of (Python) virtual environments. We have no space to discuss the conda environments further here.\n",
    "\n",
    "The following comments are meant to be helpful for those who have installed their Python interpreter through anaconda. If you are not using Anaconda, you can ignore this section.\n"
   ]
  },
  {
   "cell_type": "markdown",
   "id": "26296757",
   "metadata": {},
   "source": [
    "### Can I use Python virtual environments when using the anaconda distribution?\n",
    "\n",
    "This can be done and is a good way to create virtual environments. (All the examples above in this chapter use the Python3 interpreter from an anaconda installation on an OSX system)."
   ]
  },
  {
   "cell_type": "markdown",
   "id": "4fd40d28",
   "metadata": {},
   "source": [
    "### Should I install a python package through `conda` or `pip`?\n",
    "\n",
    "The typical scenario is that one installs Anaconda, and most Python packages needed are available: somewhat standard tools such as `numpy`, `scipy`, `matplotlib`, `pandas`, `jupyter`, `ipython` and `spyder` already come with the anaconda distribution. Then some package is missing that needs to be installed additionally. \n",
    "\n",
    "For example, the package xarray: this can be installed through conda or through pip.\n",
    "\n",
    "Experience-based rough guidance is as follows if working within an anaconda installation of Python:\n",
    "\n",
    "- avoid mixing pip installs with conda installs\n",
    "- if conda can install the required packages, then use that\n",
    "- if conda cannot insall the required packages, we have to use pip. In that case:\n",
    "  - install as many of the requirements as (easily) possible using conda\n",
    "  - then install the desired packages through pip\n",
    "  - afterwards, do not use conda again to install more packages. \n",
    "  \n",
    "    The reason for this is that conda and pip cannot interact perfectly, and so the changes that one package manager made, maybe overriden or accidentally repeated slightly differently by the other one.\n",
    "    \n",
    "A more detailed discussion is available on the [Anaconda blog](https://www.anaconda.com/blog/using-pip-in-a-conda-environment).\n",
    "    \n"
   ]
  },
  {
   "cell_type": "markdown",
   "id": "68696d08",
   "metadata": {},
   "source": [
    "### Can I create a conda environment, and then create python virtual environments from this?"
   ]
  },
  {
   "cell_type": "markdown",
   "id": "316b43fc",
   "metadata": {},
   "source": [
    "Yes. \n",
    "\n",
    "This is also an option to install different Python versions.\n",
    "\n",
    "For example: create a conda (!) environment providing Python 3.8:\n",
    "\n",
    "```\n",
    "conda create -y -n python38 python=3.8\n",
    "```\n",
    "\n",
    "Then \n",
    "\n",
    "```conda activate python38```\n",
    "\n",
    "and then create a virtual environment using\n",
    "\n",
    "```python -m venv myvirtualenv38```"
   ]
  },
  {
   "cell_type": "markdown",
   "id": "73c4b5df",
   "metadata": {},
   "source": [
    "## Managing many different environments - pyenv"
   ]
  },
  {
   "cell_type": "markdown",
   "id": "5b85c40c",
   "metadata": {},
   "source": [
    "If you use many different python environments, posssibly with different interpreter versions, you may want to learn about `pyenv` (home page at https://github.com/pyenv/pyenv).\n",
    "\n",
    "Pyenv can install a multitude of python interpreters, create virtual environments for each of those. It is further possible to define an a *per-directory* basis which environment should be used in that directory. This is convenient when using different enviroments for different projects, as one does not need to manually activate the virtual environments."
   ]
  },
  {
   "cell_type": "markdown",
   "id": "82715cd6",
   "metadata": {},
   "source": [
    "**Tidy up**: remove files created in this section"
   ]
  },
  {
   "cell_type": "code",
   "execution_count": 48,
   "id": "6139fb62",
   "metadata": {},
   "outputs": [],
   "source": [
    "!rm -rf /tmp/cowsay-python\n",
    "!rm -rf myvirtualenv-copy\n",
    "!rm -f requirements.txt"
   ]
  }
 ],
 "metadata": {
  "kernelspec": {
   "display_name": "Python 3 (ipykernel)",
   "language": "python",
   "name": "python3"
  },
  "language_info": {
   "codemirror_mode": {
    "name": "ipython",
    "version": 3
   },
   "file_extension": ".py",
   "mimetype": "text/x-python",
   "name": "python",
   "nbconvert_exporter": "python",
   "pygments_lexer": "ipython3",
   "version": "3.9.7"
  }
 },
 "nbformat": 4,
 "nbformat_minor": 5
}
