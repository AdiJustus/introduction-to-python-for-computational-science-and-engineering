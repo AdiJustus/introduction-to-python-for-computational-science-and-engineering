{
 "cells": [
  {
   "cell_type": "markdown",
   "id": "american-settle",
   "metadata": {},
   "source": [
    "# Changes\n",
    "\n",
    "Since 2021"
   ]
  },
  {
   "cell_type": "markdown",
   "id": "naughty-affairs",
   "metadata": {},
   "source": [
    "- 3 Jan 2022: review visualisation chapter"
   ]
  }
 ],
 "metadata": {
  "kernelspec": {
   "display_name": "Python 3",
   "language": "python",
   "name": "python3"
  },
  "language_info": {
   "codemirror_mode": {
    "name": "ipython",
    "version": 3
   },
   "file_extension": ".py",
   "mimetype": "text/x-python",
   "name": "python",
   "nbconvert_exporter": "python",
   "pygments_lexer": "ipython3",
   "version": "3.9.0"
  }
 },
 "nbformat": 4,
 "nbformat_minor": 5
}
